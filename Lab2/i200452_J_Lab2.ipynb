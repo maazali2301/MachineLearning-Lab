{
 "cells": [
  {
   "cell_type": "code",
   "execution_count": 1,
   "id": "cbb40816",
   "metadata": {},
   "outputs": [],
   "source": [
    "import numpy as np\n",
    "import pandas as pd"
   ]
  },
  {
   "cell_type": "markdown",
   "id": "72eff2b3",
   "metadata": {},
   "source": [
    "## Enumerate Example"
   ]
  },
  {
   "cell_type": "code",
   "execution_count": 74,
   "id": "4e6dfc36",
   "metadata": {},
   "outputs": [
    {
     "name": "stdout",
     "output_type": "stream",
     "text": [
      "3 Sherry\n",
      "4 Aamish\n",
      "5 Wadood\n"
     ]
    }
   ],
   "source": [
    "list1 = [\"Sherry\", \"Aamish\", \"Wadood\"]\n",
    "for i, val in enumerate(list1, 3):\n",
    "    print(i, val)"
   ]
  },
  {
   "cell_type": "markdown",
   "id": "4280420c",
   "metadata": {},
   "source": [
    "## Inheritance in Python"
   ]
  },
  {
   "cell_type": "code",
   "execution_count": 102,
   "id": "81ebd325",
   "metadata": {},
   "outputs": [],
   "source": [
    "class University:\n",
    "    #_name_ #Protected\n",
    "    #--location #Private\n",
    "    def __init__(self, name, location, campuses):\n",
    "        self.name = name\n",
    "        self.location = location\n",
    "        self.campuses = campuses\n",
    "    \n",
    "    def _display(self):\n",
    "        print(\"The name of university\", self.name)\n",
    "        print(\"The location is\", self.location)\n",
    "        print(\"Campus Count:\", self.campuses)\n",
    "        print(f\"The name is {self.name} and location is {self.location}\")\n",
    "        \n",
    "class Department(University):\n",
    "    def __init__(self, u_name, u_loc, campuses, d_name, d_programs):\n",
    "        super().__init__(u_name, u_loc, campuses)\n",
    "        self.d_name = d_name\n",
    "        self.d_programs = d_programs\n",
    "        \n",
    "    def _display(self):\n",
    "        super().display()\n",
    "        print(\"Department of\", self.d_name)\n",
    "        print(\"Program\", self.d_programs)\n",
    "        \n",
    "    def _details(self):\n",
    "        print(\"H-11/4 AK Brohi Road\")\n",
    "    "
   ]
  },
  {
   "cell_type": "code",
   "execution_count": 103,
   "id": "e0ef6259",
   "metadata": {},
   "outputs": [
    {
     "name": "stdout",
     "output_type": "stream",
     "text": [
      "H-11/4 AK Brohi Road\n"
     ]
    }
   ],
   "source": [
    "uni = Department(\"FAST NUCES\", \"Islamabad\", 5, \"AI\", \"BS DS\")\n",
    "uni._details()"
   ]
  },
  {
   "cell_type": "markdown",
   "id": "4075a62b",
   "metadata": {},
   "source": [
    "## List Tasks"
   ]
  },
  {
   "cell_type": "markdown",
   "id": "c58198d2",
   "metadata": {},
   "source": [
    "1) Given a list of strings, return the count of the number of strings\n",
    "where the string length is 2 or more and the first and last chars of the\n",
    "string are the same."
   ]
  },
  {
   "cell_type": "code",
   "execution_count": 80,
   "id": "0af3280b",
   "metadata": {},
   "outputs": [
    {
     "data": {
      "text/plain": [
       "3"
      ]
     },
     "execution_count": 80,
     "metadata": {},
     "output_type": "execute_result"
    }
   ],
   "source": [
    "list1 = [\"Sherry\", \"Maaz\", \"Salman\", \"Wadood\", \"N\", \"wow\", \"toot\", \"RoooR\"]\n",
    "\n",
    "def task1(list1):\n",
    "    count = 0\n",
    "    for i in range(0, len(list1)):\n",
    "        if (len(list1[i]) >= 2):\n",
    "            if (list1[i].lower()[0] == list1[i].lower()[-1]):\n",
    "                count+=1\n",
    "                \n",
    "    return count\n",
    "\n",
    "task1(list1)"
   ]
  },
  {
   "cell_type": "markdown",
   "id": "23e6c1d9",
   "metadata": {},
   "source": [
    "2) Given a list of strings, return a list with the strings in sorted order, except group all the strings that begin with \"x\" first."
   ]
  },
  {
   "cell_type": "code",
   "execution_count": 83,
   "id": "34d23874",
   "metadata": {},
   "outputs": [],
   "source": [
    "def bubbleSort(arr):\n",
    "    n = len(arr)\n",
    "    swapped = False\n",
    "    for i in range(n-1):\n",
    "        for j in range(0, n-i-1):\n",
    "            if arr[j] > arr[j + 1]:\n",
    "                swapped = True\n",
    "                arr[j], arr[j + 1] = arr[j + 1], arr[j]\n",
    "         \n",
    "        if not swapped:\n",
    "            return"
   ]
  },
  {
   "cell_type": "code",
   "execution_count": 89,
   "id": "cec95752",
   "metadata": {},
   "outputs": [
    {
     "data": {
      "text/plain": [
       "['xy', 'xr', 'cr', 'pk', 'pr', 'wq', 'yz']"
      ]
     },
     "execution_count": 89,
     "metadata": {},
     "output_type": "execute_result"
    }
   ],
   "source": [
    "list2 = [\"xy\", \"yz\", \"wq\", \"pk\", \"xr\", \"pr\", \"cr\"]\n",
    "\n",
    "def sorting(list2):\n",
    "    x_list = []\n",
    "    notx_list = []\n",
    "    for i in range(0, len(list2)):\n",
    "        if (list2[i][0] == 'x'):\n",
    "            x_list.append(list2[i])\n",
    "        else:\n",
    "            notx_list.append(list2[i])\n",
    "    bubbleSort(notx_list)\n",
    "    list2 = x_list + notx_list\n",
    "        \n",
    "    return list2\n",
    "            \n",
    "sorting(list2)        "
   ]
  },
  {
   "cell_type": "markdown",
   "id": "339c78cb",
   "metadata": {},
   "source": [
    "3) Given a list of non-empty tuples, return a list sorted in increasing order by the last element in each tuple."
   ]
  },
  {
   "cell_type": "code",
   "execution_count": 92,
   "id": "a2db6bdf",
   "metadata": {},
   "outputs": [],
   "source": [
    "def bubbleSorttuples(arr):\n",
    "    n = len(arr)\n",
    "    swapped = False\n",
    "    for i in range(n-1):\n",
    "        for j in range(0, n-i-1):\n",
    "            if arr[j][len(arr[j])-1] > arr[j + 1][len(arr[j+1])-1]:\n",
    "                swapped = True\n",
    "                arr[j], arr[j + 1] = arr[j + 1], arr[j]\n",
    "         \n",
    "        if not swapped:\n",
    "            return"
   ]
  },
  {
   "cell_type": "code",
   "execution_count": 95,
   "id": "d62348e6",
   "metadata": {},
   "outputs": [
    {
     "data": {
      "text/plain": [
       "[(0, 1), (1, 3), (3, 4), (4, 5)]"
      ]
     },
     "execution_count": 95,
     "metadata": {},
     "output_type": "execute_result"
    }
   ],
   "source": [
    "tups = [(3,4), (4,5), (1,3), (0,1)]\n",
    "\n",
    "def sort_tuples(tups):\n",
    "    bubbleSorttuples(tups)\n",
    "\n",
    "sort_tuples(tups)\n",
    "tups"
   ]
  },
  {
   "cell_type": "markdown",
   "id": "681eefd2",
   "metadata": {},
   "source": [
    "4) Given a list of numbers, return a list where all adjacent == elements have been reduced to a single element, so [1, 2, 2, 3] returns [1, 2, 3]."
   ]
  },
  {
   "cell_type": "code",
   "execution_count": 110,
   "id": "a24b8f71",
   "metadata": {},
   "outputs": [
    {
     "name": "stdout",
     "output_type": "stream",
     "text": [
      "12\n"
     ]
    },
    {
     "ename": "KeyboardInterrupt",
     "evalue": "",
     "output_type": "error",
     "traceback": [
      "\u001b[1;31m---------------------------------------------------------------------------\u001b[0m",
      "\u001b[1;31mKeyboardInterrupt\u001b[0m                         Traceback (most recent call last)",
      "\u001b[1;32mC:\\Users\\MAAZAL~1\\AppData\\Local\\Temp/ipykernel_22036/628337786.py\u001b[0m in \u001b[0;36m<module>\u001b[1;34m\u001b[0m\n\u001b[0;32m      4\u001b[0m \u001b[0mprint\u001b[0m\u001b[1;33m(\u001b[0m\u001b[0ml\u001b[0m\u001b[1;33m)\u001b[0m\u001b[1;33m\u001b[0m\u001b[1;33m\u001b[0m\u001b[0m\n\u001b[0;32m      5\u001b[0m \u001b[0mi\u001b[0m \u001b[1;33m=\u001b[0m \u001b[1;36m0\u001b[0m\u001b[1;33m\u001b[0m\u001b[1;33m\u001b[0m\u001b[0m\n\u001b[1;32m----> 6\u001b[1;33m \u001b[1;32mwhile\u001b[0m \u001b[1;33m(\u001b[0m\u001b[0mi\u001b[0m \u001b[1;33m!=\u001b[0m \u001b[0ml\u001b[0m\u001b[1;33m-\u001b[0m\u001b[1;36m1\u001b[0m\u001b[1;33m)\u001b[0m\u001b[1;33m:\u001b[0m\u001b[1;33m\u001b[0m\u001b[1;33m\u001b[0m\u001b[0m\n\u001b[0m\u001b[0;32m      7\u001b[0m         \u001b[1;32mif\u001b[0m \u001b[1;33m(\u001b[0m\u001b[0mlist4\u001b[0m\u001b[1;33m[\u001b[0m\u001b[0mi\u001b[0m\u001b[1;33m]\u001b[0m \u001b[1;33m==\u001b[0m \u001b[0mlist4\u001b[0m\u001b[1;33m[\u001b[0m\u001b[0mi\u001b[0m\u001b[1;33m+\u001b[0m\u001b[1;36m1\u001b[0m\u001b[1;33m]\u001b[0m\u001b[1;33m)\u001b[0m\u001b[1;33m:\u001b[0m\u001b[1;33m\u001b[0m\u001b[1;33m\u001b[0m\u001b[0m\n\u001b[0;32m      8\u001b[0m             \u001b[0mlist4\u001b[0m\u001b[1;33m.\u001b[0m\u001b[0mpop\u001b[0m\u001b[1;33m(\u001b[0m\u001b[0mi\u001b[0m\u001b[1;33m)\u001b[0m\u001b[1;33m\u001b[0m\u001b[1;33m\u001b[0m\u001b[0m\n",
      "\u001b[1;31mKeyboardInterrupt\u001b[0m: "
     ]
    }
   ],
   "source": [
    "list4 = [1,2,3,4,5,5,5,5,8,9,10,10]\n",
    "\n",
    "l = len(list4)\n",
    "print(l)\n",
    "i = 0\n",
    "while (i != l-1):\n",
    "        if (list4[i] == list4[i+1]):\n",
    "            list4.pop(i)\n",
    "            i+=1\n",
    "            l-=1\n",
    "            \n",
    "print(list4)"
   ]
  },
  {
   "cell_type": "markdown",
   "id": "af097a95",
   "metadata": {},
   "source": [
    "5) two lists sorted in increasing order, create and return a merged list of all the elements in sorted order"
   ]
  },
  {
   "cell_type": "code",
   "execution_count": 119,
   "id": "d4001519",
   "metadata": {},
   "outputs": [
    {
     "name": "stdout",
     "output_type": "stream",
     "text": [
      "[9, 10, 20, 30, 39, 40, 50, 50, 60, 70, 100, 123, 140]\n"
     ]
    }
   ],
   "source": [
    "l1 = [9,39,50,100,123,140]\n",
    "l2 = [10,20,30,40,50,60,70]\n",
    "\n",
    "\n",
    "def merge_list(l1, l2):\n",
    "    l3 = l1+l2\n",
    "    l3 = sorted(l3)\n",
    "    return l3\n",
    "\n",
    "print(merge_list(l1, l2))"
   ]
  },
  {
   "cell_type": "markdown",
   "id": "f7f1bce4",
   "metadata": {},
   "source": [
    "## CSV Implementation"
   ]
  },
  {
   "cell_type": "code",
   "execution_count": 120,
   "id": "ded2bb9f",
   "metadata": {},
   "outputs": [
    {
     "data": {
      "text/html": [
       "<div>\n",
       "<style scoped>\n",
       "    .dataframe tbody tr th:only-of-type {\n",
       "        vertical-align: middle;\n",
       "    }\n",
       "\n",
       "    .dataframe tbody tr th {\n",
       "        vertical-align: top;\n",
       "    }\n",
       "\n",
       "    .dataframe thead th {\n",
       "        text-align: right;\n",
       "    }\n",
       "</style>\n",
       "<table border=\"1\" class=\"dataframe\">\n",
       "  <thead>\n",
       "    <tr style=\"text-align: right;\">\n",
       "      <th></th>\n",
       "      <th>country</th>\n",
       "      <th>beer_servings</th>\n",
       "      <th>spirit_servings</th>\n",
       "      <th>wine_servings</th>\n",
       "      <th>total_litres_of_pure_alcohol</th>\n",
       "      <th>continent</th>\n",
       "    </tr>\n",
       "  </thead>\n",
       "  <tbody>\n",
       "    <tr>\n",
       "      <th>0</th>\n",
       "      <td>Afghanistan</td>\n",
       "      <td>0</td>\n",
       "      <td>0</td>\n",
       "      <td>0</td>\n",
       "      <td>0.0</td>\n",
       "      <td>AS</td>\n",
       "    </tr>\n",
       "    <tr>\n",
       "      <th>1</th>\n",
       "      <td>Albania</td>\n",
       "      <td>89</td>\n",
       "      <td>132</td>\n",
       "      <td>54</td>\n",
       "      <td>4.9</td>\n",
       "      <td>EU</td>\n",
       "    </tr>\n",
       "    <tr>\n",
       "      <th>2</th>\n",
       "      <td>Algeria</td>\n",
       "      <td>25</td>\n",
       "      <td>0</td>\n",
       "      <td>14</td>\n",
       "      <td>0.7</td>\n",
       "      <td>AF</td>\n",
       "    </tr>\n",
       "    <tr>\n",
       "      <th>3</th>\n",
       "      <td>Andorra</td>\n",
       "      <td>245</td>\n",
       "      <td>138</td>\n",
       "      <td>312</td>\n",
       "      <td>12.4</td>\n",
       "      <td>EU</td>\n",
       "    </tr>\n",
       "    <tr>\n",
       "      <th>4</th>\n",
       "      <td>Angola</td>\n",
       "      <td>217</td>\n",
       "      <td>57</td>\n",
       "      <td>45</td>\n",
       "      <td>5.9</td>\n",
       "      <td>AF</td>\n",
       "    </tr>\n",
       "    <tr>\n",
       "      <th>...</th>\n",
       "      <td>...</td>\n",
       "      <td>...</td>\n",
       "      <td>...</td>\n",
       "      <td>...</td>\n",
       "      <td>...</td>\n",
       "      <td>...</td>\n",
       "    </tr>\n",
       "    <tr>\n",
       "      <th>188</th>\n",
       "      <td>Venezuela</td>\n",
       "      <td>333</td>\n",
       "      <td>100</td>\n",
       "      <td>3</td>\n",
       "      <td>7.7</td>\n",
       "      <td>SA</td>\n",
       "    </tr>\n",
       "    <tr>\n",
       "      <th>189</th>\n",
       "      <td>Vietnam</td>\n",
       "      <td>111</td>\n",
       "      <td>2</td>\n",
       "      <td>1</td>\n",
       "      <td>2.0</td>\n",
       "      <td>AS</td>\n",
       "    </tr>\n",
       "    <tr>\n",
       "      <th>190</th>\n",
       "      <td>Yemen</td>\n",
       "      <td>6</td>\n",
       "      <td>0</td>\n",
       "      <td>0</td>\n",
       "      <td>0.1</td>\n",
       "      <td>AS</td>\n",
       "    </tr>\n",
       "    <tr>\n",
       "      <th>191</th>\n",
       "      <td>Zambia</td>\n",
       "      <td>32</td>\n",
       "      <td>19</td>\n",
       "      <td>4</td>\n",
       "      <td>2.5</td>\n",
       "      <td>AF</td>\n",
       "    </tr>\n",
       "    <tr>\n",
       "      <th>192</th>\n",
       "      <td>Zimbabwe</td>\n",
       "      <td>64</td>\n",
       "      <td>18</td>\n",
       "      <td>4</td>\n",
       "      <td>4.7</td>\n",
       "      <td>AF</td>\n",
       "    </tr>\n",
       "  </tbody>\n",
       "</table>\n",
       "<p>193 rows × 6 columns</p>\n",
       "</div>"
      ],
      "text/plain": [
       "         country  beer_servings  spirit_servings  wine_servings  \\\n",
       "0    Afghanistan              0                0              0   \n",
       "1        Albania             89              132             54   \n",
       "2        Algeria             25                0             14   \n",
       "3        Andorra            245              138            312   \n",
       "4         Angola            217               57             45   \n",
       "..           ...            ...              ...            ...   \n",
       "188    Venezuela            333              100              3   \n",
       "189      Vietnam            111                2              1   \n",
       "190        Yemen              6                0              0   \n",
       "191       Zambia             32               19              4   \n",
       "192     Zimbabwe             64               18              4   \n",
       "\n",
       "     total_litres_of_pure_alcohol continent  \n",
       "0                             0.0        AS  \n",
       "1                             4.9        EU  \n",
       "2                             0.7        AF  \n",
       "3                            12.4        EU  \n",
       "4                             5.9        AF  \n",
       "..                            ...       ...  \n",
       "188                           7.7        SA  \n",
       "189                           2.0        AS  \n",
       "190                           0.1        AS  \n",
       "191                           2.5        AF  \n",
       "192                           4.7        AF  \n",
       "\n",
       "[193 rows x 6 columns]"
      ]
     },
     "execution_count": 120,
     "metadata": {},
     "output_type": "execute_result"
    }
   ],
   "source": [
    "df = pd.read_csv(\"drinks.csv\")\n",
    "df"
   ]
  },
  {
   "cell_type": "code",
   "execution_count": 122,
   "id": "42fa9a2f",
   "metadata": {},
   "outputs": [
    {
     "data": {
      "text/plain": [
       "193"
      ]
     },
     "execution_count": 122,
     "metadata": {},
     "output_type": "execute_result"
    }
   ],
   "source": [
    "#Rows\n",
    "len(df)"
   ]
  },
  {
   "cell_type": "code",
   "execution_count": 124,
   "id": "b3e34b6d",
   "metadata": {},
   "outputs": [],
   "source": [
    "#Drop na\n",
    "df.dropna(inplace=True)"
   ]
  },
  {
   "cell_type": "code",
   "execution_count": 127,
   "id": "f7fa7f52",
   "metadata": {},
   "outputs": [],
   "source": [
    "def details(name):\n",
    "    print(df[name].to_list())"
   ]
  },
  {
   "cell_type": "code",
   "execution_count": 128,
   "id": "e9a1cc6d",
   "metadata": {},
   "outputs": [
    {
     "name": "stdout",
     "output_type": "stream",
     "text": [
      "[0, 89, 25, 245, 217, 193, 21, 261, 279, 21, 42, 0, 142, 295, 34, 23, 167, 76, 173, 245, 31, 231, 25, 88, 37, 144, 57, 147, 17, 15, 130, 79, 159, 1, 76, 0, 230, 192, 361, 0, 32, 224, 15, 162, 6, 92, 18, 224, 20, 77, 263, 127, 347, 8, 52, 346, 31, 133, 9, 28, 93, 234, 233, 9, 5, 0, 9, 313, 63, 85, 77, 6, 124, 58, 21, 0, 31, 62, 281, 20, 82, 19, 0, 343, 236, 26, 8, 13, 0, 5, 149, 0, 0, 98, 62, 0, 77, 31, 12, 47, 5, 376, 49, 5, 251, 203, 3, 42, 188, 169, 22, 0, 306, 44, 213, 163, 71, 343, 194, 1, 140, 109, 297, 247, 43, 105, 0, 56, 0, 9, 283, 157, 25, 60, 196, 270, 56, 0, 225, 284, 16, 8, 128, 90, 152, 185, 5, 2, 99, 106, 1, 36, 36, 51, 51, 19, 6, 45, 206, 16, 219, 36, 115, 25, 21, 333, 111, 6, 32, 64]\n"
     ]
    }
   ],
   "source": [
    "details(\"beer_servings\")"
   ]
  },
  {
   "cell_type": "code",
   "execution_count": 129,
   "id": "ea99ace7",
   "metadata": {},
   "outputs": [],
   "source": [
    "import matplotlib.pyplot as plt"
   ]
  },
  {
   "cell_type": "code",
   "execution_count": 132,
   "id": "4994b53a",
   "metadata": {},
   "outputs": [
    {
     "data": {
      "text/plain": [
       "(array([71., 20., 19., 11.,  9., 13., 11.,  7.,  3.,  6.]),\n",
       " array([  0. ,  37.6,  75.2, 112.8, 150.4, 188. , 225.6, 263.2, 300.8,\n",
       "        338.4, 376. ]),\n",
       " <BarContainer object of 10 artists>)"
      ]
     },
     "execution_count": 132,
     "metadata": {},
     "output_type": "execute_result"
    },
    {
     "data": {
      "image/png": "[encoded data removed]",
      "text/plain": [
       "<Figure size 432x288 with 1 Axes>"
      ]
     },
     "metadata": {
      "needs_background": "light"
     },
     "output_type": "display_data"
    }
   ],
   "source": [
    "beer = df[\"beer_servings\"]\n",
    "plt.hist(beer, bins=10)"
   ]
  },
  {
   "cell_type": "code",
   "execution_count": 143,
   "id": "6963cdde",
   "metadata": {},
   "outputs": [
    {
     "data": {
      "text/plain": [
       "['AF', 'EU', 'AS', 'OC', 'SA']"
      ]
     },
     "execution_count": 143,
     "metadata": {},
     "output_type": "execute_result"
    }
   ],
   "source": [
    "#Pie Chart (Continent Distribution)\n",
    "counts = df[\"continent\"].value_counts()\n",
    "vals = df[\"continent\"].value_counts().index.to_list()\n",
    "vals"
   ]
  },
  {
   "cell_type": "code",
   "execution_count": 148,
   "id": "70b2e026",
   "metadata": {},
   "outputs": [
    {
     "data": {
      "text/plain": [
       "([<matplotlib.patches.Wedge at 0x1386af4d760>,\n",
       "  <matplotlib.patches.Wedge at 0x1386af4dc40>,\n",
       "  <matplotlib.patches.Wedge at 0x1386af5c160>,\n",
       "  <matplotlib.patches.Wedge at 0x1386af5c640>,\n",
       "  <matplotlib.patches.Wedge at 0x1386af5cb20>],\n",
       " [Text(0.6132383510888698, 0.9132024555123602, 'AF'),\n",
       "  Text(-1.032887240017765, 0.378343692174832, 'EU'),\n",
       "  Text(-0.3010290734827282, -1.0580082688325883, 'AS'),\n",
       "  Text(0.8129099977067198, -0.7410650009469217, 'OC'),\n",
       "  Text(1.0730632302698058, -0.24194070315457392, 'SA')])"
      ]
     },
     "execution_count": 148,
     "metadata": {},
     "output_type": "execute_result"
    },
    {
     "data": {
      "image/png": "[encoded data removed]",
      "text/plain": [
       "<Figure size 432x288 with 1 Axes>"
      ]
     },
     "metadata": {},
     "output_type": "display_data"
    }
   ],
   "source": [
    "plt.pie(counts,labels=vals)"
   ]
  },
  {
   "cell_type": "code",
   "execution_count": 155,
   "id": "9173e121",
   "metadata": {},
   "outputs": [
    {
     "data": {
      "text/plain": [
       "<BarContainer object of 5 artists>"
      ]
     },
     "execution_count": 155,
     "metadata": {},
     "output_type": "execute_result"
    },
    {
     "data": {
      "image/png": "[encoded data removed]",
      "text/plain": [
       "<Figure size 432x288 with 1 Axes>"
      ]
     },
     "metadata": {
      "needs_background": "light"
     },
     "output_type": "display_data"
    }
   ],
   "source": [
    "plt.xticks(np.arange(len(vals)), vals)\n",
    "plt.bar(vals, counts)"
   ]
  },
  {
   "cell_type": "code",
   "execution_count": 156,
   "id": "4fdb7312",
   "metadata": {},
   "outputs": [
    {
     "data": {
      "image/png": "[encoded data removed]",
      "text/plain": [
       "<Figure size 432x288 with 1 Axes>"
      ]
     },
     "metadata": {
      "needs_background": "light"
     },
     "output_type": "display_data"
    }
   ],
   "source": [
    "#Scatter Plot\n",
    "plt.scatter(vals, counts)\n",
    "plt.show()"
   ]
  },
  {
   "cell_type": "code",
   "execution_count": 157,
   "id": "9ef7766f",
   "metadata": {},
   "outputs": [
    {
     "data": {
      "image/png": "[encoded data removed]",
      "text/plain": [
       "<Figure size 432x288 with 1 Axes>"
      ]
     },
     "metadata": {
      "needs_background": "light"
     },
     "output_type": "display_data"
    }
   ],
   "source": [
    "ax = plt.axes(projection=\"3d\")\n",
    "fg = ax.scatter3D(df[\"beer_servings\"], df[\"spirit_servings\"], df[\"wine_servings\"])"
   ]
  },
  {
   "cell_type": "code",
   "execution_count": 160,
   "id": "97449e29",
   "metadata": {},
   "outputs": [
    {
     "data": {
      "image/png": "[encoded data removed]",
      "text/plain": [
       "<Figure size 432x288 with 1 Axes>"
      ]
     },
     "metadata": {
      "needs_background": "light"
     },
     "output_type": "display_data"
    }
   ],
   "source": [
    "#2D Bar Chart\n",
    "X = df[\"continent\"]\n",
    "Y1 = df['beer_servings']\n",
    "Y2 = df['spirit_servings']\n",
    "X_axis = np.arange(len(X))\n",
    "plt.bar(X_axis + 0.15, Y2, 0.2, label = 'spirit')\n",
    "plt.bar(X_axis - 0.15, Y1, 0.2, label = 'beer')\n",
    "plt.xticks(X_axis, X)\n",
    "plt.show()"
   ]
  },
  {
   "cell_type": "code",
   "execution_count": 163,
   "id": "71299682",
   "metadata": {},
   "outputs": [
    {
     "data": {
      "image/png": "[encoded data removed]",
      "text/plain": [
       "<Figure size 432x288 with 1 Axes>"
      ]
     },
     "metadata": {
      "needs_background": "light"
     },
     "output_type": "display_data"
    }
   ],
   "source": [
    "plt.hist(df['beer_servings'], bins=20, alpha = 0.5, color='green')\n",
    "plt.hist(df['spirit_servings'], bins=20,alpha = 0.5, color='yellow')\n",
    "plt.legend(['beer', 'spirit'])\n",
    "plt.show()"
   ]
  },
  {
   "cell_type": "code",
   "execution_count": null,
   "id": "38a0ace9",
   "metadata": {},
   "outputs": [],
   "source": []
  }
 ],
 "metadata": {
  "kernelspec": {
   "display_name": "Python 3 (ipykernel)",
   "language": "python",
   "name": "python3"
  },
  "language_info": {
   "codemirror_mode": {
    "name": "ipython",
    "version": 3
   },
   "file_extension": ".py",
   "mimetype": "text/x-python",
   "name": "python",
   "nbconvert_exporter": "python",
   "pygments_lexer": "ipython3",
   "version": "3.9.7"
  }
 },
 "nbformat": 4,
 "nbformat_minor": 5
}
