{
 "cells": [
  {
   "cell_type": "markdown",
   "id": "716d6478",
   "metadata": {},
   "source": [
    "# Maaz Ali Nadeem - i200452 - BS AI J"
   ]
  },
  {
   "cell_type": "markdown",
   "id": "d2bee074",
   "metadata": {},
   "source": [
    "## Machine Learning - Lab Task 7 (Naive Bayes for Textual Data and catering to unseen corpus words)"
   ]
  },
  {
   "cell_type": "code",
   "execution_count": 1,
   "id": "9d94d3c0",
   "metadata": {},
   "outputs": [],
   "source": [
    "import pandas as pd\n",
    "import numpy as np"
   ]
  },
  {
   "cell_type": "code",
   "execution_count": 2,
   "id": "e164c485",
   "metadata": {},
   "outputs": [],
   "source": [
    "pos_sentences = [\"I love mangoes\",\n",
    "\"Mangoes are a lot tastier than other fruits\",\n",
    "\"I like mangoes because they are good,\",\n",
    "\"Apples are good too but I prefer mangoes\",\n",
    "\"People say mango is the king of fruit so that is why mangoes are good\",\n",
    "\"Mangoes are good because they are juicy\"]\n",
    "\n",
    "neg_sentences = [\"Eating too many mangoes can have a negative impact on your health\",\n",
    "\"Mangoes are good but not too good, I like apples more than mangoes\",\n",
    "\"I don’t like mangoes because they are expensive\",\n",
    "\"Mangoes are not good.\",\n",
    "\"I don’t like mangoes\"]"
   ]
  },
  {
   "cell_type": "code",
   "execution_count": 3,
   "id": "17a4b5cc",
   "metadata": {},
   "outputs": [],
   "source": [
    "#Clean the Dataset\n",
    "for i in range(0, len(pos_sentences)):\n",
    "    pos_sentences[i] = pos_sentences[i].lower()\n",
    "    pos_sentences[i] = pos_sentences[i].replace(\",\", \"\")\n",
    "    pos_sentences[i] = pos_sentences[i].replace(\".\", \"\")\n",
    "    pos_sentences[i] = pos_sentences[i].replace(\"\\'\", \"\")\n",
    "    \n",
    "    \n",
    "for i in range(0, len(neg_sentences)):\n",
    "    neg_sentences[i] = neg_sentences[i].lower()\n",
    "    neg_sentences[i] = neg_sentences[i].replace(\".\", \"\")\n",
    "    neg_sentences[i] = neg_sentences[i].replace(\",\", \"\")\n",
    "    neg_sentences[i] = neg_sentences[i].replace(\"\\'\", \"\")"
   ]
  },
  {
   "cell_type": "code",
   "execution_count": 4,
   "id": "7cd49071",
   "metadata": {},
   "outputs": [],
   "source": [
    "def normal(text):\n",
    "    text = text.lower()\n",
    "    text = text.replace(\",\", \"\")\n",
    "    text = text.replace(\".\", \"\")\n",
    "    text = text.replace(\"\\'\", \"\")\n",
    "    return text"
   ]
  },
  {
   "cell_type": "code",
   "execution_count": 5,
   "id": "5b633e86",
   "metadata": {},
   "outputs": [
    {
     "data": {
      "text/plain": [
       "'mangoes are good'"
      ]
     },
     "execution_count": 5,
     "metadata": {},
     "output_type": "execute_result"
    }
   ],
   "source": [
    "inference = normal(\"Mangoes are good\")\n",
    "inference"
   ]
  },
  {
   "cell_type": "code",
   "execution_count": 6,
   "id": "bd40adda",
   "metadata": {},
   "outputs": [],
   "source": [
    "p_pos = len(pos_sentences) / (len(pos_sentences) + len(neg_sentences))\n",
    "p_neg = len(neg_sentences) / (len(pos_sentences) + len(neg_sentences))"
   ]
  },
  {
   "cell_type": "code",
   "execution_count": 22,
   "id": "b518b820",
   "metadata": {},
   "outputs": [],
   "source": [
    "pos_words = \"\"\n",
    "for i in pos_sentences:\n",
    "    pos_words += i\n",
    "    pos_words += \" \"\n",
    "    \n",
    "pos_words = pos_words.split(\" \")\n",
    "\n",
    "neg_words = \"\"\n",
    "for i in neg_sentences:\n",
    "    neg_words += i\n",
    "    neg_words += \" \"\n",
    "    \n",
    "neg_words = neg_words.split(\" \")"
   ]
  },
  {
   "cell_type": "code",
   "execution_count": 25,
   "id": "60afc309",
   "metadata": {},
   "outputs": [],
   "source": [
    "all_words = neg_words + pos_words\n",
    "unique_words = list(set(all_words))"
   ]
  },
  {
   "cell_type": "code",
   "execution_count": 26,
   "id": "d8287917",
   "metadata": {},
   "outputs": [],
   "source": [
    "prob_pos = []\n",
    "for i in unique_words:\n",
    "    c = 1\n",
    "    for j in pos_words:\n",
    "        if i == j:\n",
    "            c+=1\n",
    "    prob_pos.append(c/(len(pos_words)+len(unique_words)+1))\n",
    "    \n",
    "prob_neg = []\n",
    "for i in unique_words:\n",
    "    c = 1\n",
    "    for j in neg_words:\n",
    "        if i == j:\n",
    "            c+=1\n",
    "    prob_neg.append(c/(len(neg_words)+len(unique_words)+1))"
   ]
  },
  {
   "cell_type": "code",
   "execution_count": 27,
   "id": "a031eb5e",
   "metadata": {},
   "outputs": [],
   "source": [
    "from collections import defaultdict\n",
    "n_d = defaultdict(lambda: 1/(len(neg_words) + len(unique_words)))\n",
    "p_d = defaultdict(lambda: 1/(len(pos_words) + len(unique_words)))\n",
    "\n",
    "for i in range(0, len(unique_words)):\n",
    "    n_d[unique_words[i]] = prob_neg[i]\n",
    "    p_d[unique_words[i]] = prob_pos[i]"
   ]
  },
  {
   "cell_type": "markdown",
   "id": "5a198445",
   "metadata": {},
   "source": [
    "## Inference"
   ]
  },
  {
   "cell_type": "code",
   "execution_count": 32,
   "id": "c770b936",
   "metadata": {},
   "outputs": [],
   "source": [
    "sentence = \"Mangoes are good\"\n",
    "sentence =  normal(sentence)\n",
    "\n",
    "sentence_p = []\n",
    "sentence_n = []\n",
    "for i in sentence.split(\" \"):\n",
    "  sentence_p.append(p_d[i])  \n",
    "  sentence_n.append(n_d[i])  "
   ]
  },
  {
   "cell_type": "code",
   "execution_count": 33,
   "id": "3d4041b8",
   "metadata": {},
   "outputs": [
    {
     "name": "stdout",
     "output_type": "stream",
     "text": [
      "Sentence is positive\n",
      "\n",
      "Positive :  0.00016089445936396993\n",
      "Negative :  7.731034013374412e-05\n"
     ]
    }
   ],
   "source": [
    "probabilty_p = 1\n",
    "probabilty_n = 1\n",
    "\n",
    "for j in sentence_p:\n",
    "  probabilty_p*=j\n",
    "probabilty_p*=6/11\n",
    "\n",
    "for j in sentence_n:\n",
    "  probabilty_n*=j\n",
    "\n",
    "probabilty_n*=5/11\n",
    "\n",
    "if(probabilty_p>probabilty_n):\n",
    "  print(\"Sentence is positive\\n\")\n",
    "  print(\"Positive : \", probabilty_p)\n",
    "  print(\"Negative : \", probabilty_n)  \n",
    "else:\n",
    "  print(\"Sentence is negative\\n\")\n",
    "  print(\"Positive : \", probabilty_p)\n",
    "  print(\"Negative : \", probabilty_n) "
   ]
  },
  {
   "cell_type": "code",
   "execution_count": null,
   "id": "fd9d744d",
   "metadata": {},
   "outputs": [],
   "source": []
  }
 ],
 "metadata": {
  "kernelspec": {
   "display_name": "Python 3 (ipykernel)",
   "language": "python",
   "name": "python3"
  },
  "language_info": {
   "codemirror_mode": {
    "name": "ipython",
    "version": 3
   },
   "file_extension": ".py",
   "mimetype": "text/x-python",
   "name": "python",
   "nbconvert_exporter": "python",
   "pygments_lexer": "ipython3",
   "version": "3.9.7"
  }
 },
 "nbformat": 4,
 "nbformat_minor": 5
}
