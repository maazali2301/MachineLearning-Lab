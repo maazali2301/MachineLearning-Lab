{
 "cells": [
  {
   "cell_type": "markdown",
   "id": "7afb610f",
   "metadata": {},
   "source": [
    "# Maaz Ali Nadeem - i200452 - BS AI J"
   ]
  },
  {
   "cell_type": "markdown",
   "id": "76ebdbba",
   "metadata": {},
   "source": [
    "## Machine Learning - Lab Task 8 (Decision Tree for Discrete Data - play_tennis dataset)"
   ]
  },
  {
   "cell_type": "code",
   "execution_count": 13,
   "id": "6e0dcd24",
   "metadata": {},
   "outputs": [],
   "source": [
    "import pandas as pd\n",
    "import numpy as np\n",
    "import math"
   ]
  },
  {
   "cell_type": "code",
   "execution_count": 3,
   "id": "ef634990",
   "metadata": {},
   "outputs": [
    {
     "data": {
      "text/html": [
       "<div>\n",
       "<style scoped>\n",
       "    .dataframe tbody tr th:only-of-type {\n",
       "        vertical-align: middle;\n",
       "    }\n",
       "\n",
       "    .dataframe tbody tr th {\n",
       "        vertical-align: top;\n",
       "    }\n",
       "\n",
       "    .dataframe thead th {\n",
       "        text-align: right;\n",
       "    }\n",
       "</style>\n",
       "<table border=\"1\" class=\"dataframe\">\n",
       "  <thead>\n",
       "    <tr style=\"text-align: right;\">\n",
       "      <th></th>\n",
       "      <th>outlook</th>\n",
       "      <th>temp</th>\n",
       "      <th>humidity</th>\n",
       "      <th>wind</th>\n",
       "      <th>play</th>\n",
       "    </tr>\n",
       "  </thead>\n",
       "  <tbody>\n",
       "    <tr>\n",
       "      <th>0</th>\n",
       "      <td>Sunny</td>\n",
       "      <td>Hot</td>\n",
       "      <td>High</td>\n",
       "      <td>Weak</td>\n",
       "      <td>No</td>\n",
       "    </tr>\n",
       "    <tr>\n",
       "      <th>1</th>\n",
       "      <td>Sunny</td>\n",
       "      <td>Hot</td>\n",
       "      <td>High</td>\n",
       "      <td>Strong</td>\n",
       "      <td>No</td>\n",
       "    </tr>\n",
       "    <tr>\n",
       "      <th>2</th>\n",
       "      <td>Overcast</td>\n",
       "      <td>Hot</td>\n",
       "      <td>High</td>\n",
       "      <td>Weak</td>\n",
       "      <td>Yes</td>\n",
       "    </tr>\n",
       "    <tr>\n",
       "      <th>3</th>\n",
       "      <td>Rain</td>\n",
       "      <td>Mild</td>\n",
       "      <td>High</td>\n",
       "      <td>Weak</td>\n",
       "      <td>Yes</td>\n",
       "    </tr>\n",
       "    <tr>\n",
       "      <th>4</th>\n",
       "      <td>Rain</td>\n",
       "      <td>Cool</td>\n",
       "      <td>Normal</td>\n",
       "      <td>Weak</td>\n",
       "      <td>Yes</td>\n",
       "    </tr>\n",
       "    <tr>\n",
       "      <th>5</th>\n",
       "      <td>Rain</td>\n",
       "      <td>Cool</td>\n",
       "      <td>Normal</td>\n",
       "      <td>Strong</td>\n",
       "      <td>No</td>\n",
       "    </tr>\n",
       "    <tr>\n",
       "      <th>6</th>\n",
       "      <td>Overcast</td>\n",
       "      <td>Cool</td>\n",
       "      <td>Normal</td>\n",
       "      <td>Strong</td>\n",
       "      <td>Yes</td>\n",
       "    </tr>\n",
       "    <tr>\n",
       "      <th>7</th>\n",
       "      <td>Sunny</td>\n",
       "      <td>Mild</td>\n",
       "      <td>High</td>\n",
       "      <td>Weak</td>\n",
       "      <td>No</td>\n",
       "    </tr>\n",
       "    <tr>\n",
       "      <th>8</th>\n",
       "      <td>Sunny</td>\n",
       "      <td>Cool</td>\n",
       "      <td>Normal</td>\n",
       "      <td>Weak</td>\n",
       "      <td>Yes</td>\n",
       "    </tr>\n",
       "    <tr>\n",
       "      <th>9</th>\n",
       "      <td>Rain</td>\n",
       "      <td>Mild</td>\n",
       "      <td>Normal</td>\n",
       "      <td>Weak</td>\n",
       "      <td>Yes</td>\n",
       "    </tr>\n",
       "    <tr>\n",
       "      <th>10</th>\n",
       "      <td>Sunny</td>\n",
       "      <td>Mild</td>\n",
       "      <td>Normal</td>\n",
       "      <td>Strong</td>\n",
       "      <td>Yes</td>\n",
       "    </tr>\n",
       "    <tr>\n",
       "      <th>11</th>\n",
       "      <td>Overcast</td>\n",
       "      <td>Mild</td>\n",
       "      <td>High</td>\n",
       "      <td>Strong</td>\n",
       "      <td>Yes</td>\n",
       "    </tr>\n",
       "    <tr>\n",
       "      <th>12</th>\n",
       "      <td>Overcast</td>\n",
       "      <td>Hot</td>\n",
       "      <td>Normal</td>\n",
       "      <td>Weak</td>\n",
       "      <td>Yes</td>\n",
       "    </tr>\n",
       "    <tr>\n",
       "      <th>13</th>\n",
       "      <td>Rain</td>\n",
       "      <td>Mild</td>\n",
       "      <td>High</td>\n",
       "      <td>Strong</td>\n",
       "      <td>No</td>\n",
       "    </tr>\n",
       "  </tbody>\n",
       "</table>\n",
       "</div>"
      ],
      "text/plain": [
       "     outlook  temp humidity    wind play\n",
       "0      Sunny   Hot     High    Weak   No\n",
       "1      Sunny   Hot     High  Strong   No\n",
       "2   Overcast   Hot     High    Weak  Yes\n",
       "3       Rain  Mild     High    Weak  Yes\n",
       "4       Rain  Cool   Normal    Weak  Yes\n",
       "5       Rain  Cool   Normal  Strong   No\n",
       "6   Overcast  Cool   Normal  Strong  Yes\n",
       "7      Sunny  Mild     High    Weak   No\n",
       "8      Sunny  Cool   Normal    Weak  Yes\n",
       "9       Rain  Mild   Normal    Weak  Yes\n",
       "10     Sunny  Mild   Normal  Strong  Yes\n",
       "11  Overcast  Mild     High  Strong  Yes\n",
       "12  Overcast   Hot   Normal    Weak  Yes\n",
       "13      Rain  Mild     High  Strong   No"
      ]
     },
     "execution_count": 3,
     "metadata": {},
     "output_type": "execute_result"
    }
   ],
   "source": [
    "df = pd.read_csv(\"play_tennis.csv\")\n",
    "df = df.drop(\"day\", axis=1)\n",
    "df"
   ]
  },
  {
   "cell_type": "markdown",
   "id": "b7b39365",
   "metadata": {},
   "source": [
    "### Entropy of Yes and No for entire dataset"
   ]
  },
  {
   "cell_type": "code",
   "execution_count": 17,
   "id": "0e4052db",
   "metadata": {},
   "outputs": [
    {
     "data": {
      "text/plain": [
       "0.9402859586706311"
      ]
     },
     "execution_count": 17,
     "metadata": {},
     "output_type": "execute_result"
    }
   ],
   "source": [
    "df[\"play\"].value_counts()\n",
    "entropy_labels = -(9/14)*math.log2(9/14) - (5/14)*math.log2(5/14)\n",
    "entropy_labels"
   ]
  },
  {
   "cell_type": "markdown",
   "id": "67bd3c26",
   "metadata": {},
   "source": [
    "### Entropy - Outlook Labels"
   ]
  },
  {
   "cell_type": "code",
   "execution_count": 25,
   "id": "00304fa3",
   "metadata": {},
   "outputs": [
    {
     "name": "stdout",
     "output_type": "stream",
     "text": [
      "*****\n",
      "Sunny\n",
      "*****\n",
      "No     3\n",
      "Yes    2\n",
      "Name: play, dtype: int64\n",
      "*****\n",
      "Overcast\n",
      "*****\n",
      "Yes    4\n",
      "Name: play, dtype: int64\n",
      "*****\n",
      "Rain\n",
      "*****\n",
      "Yes    3\n",
      "No     2\n",
      "Name: play, dtype: int64\n"
     ]
    }
   ],
   "source": [
    "outlook_vals = df[\"outlook\"].unique()\n",
    "\n",
    "for vals in outlook_vals:\n",
    "    print(\"*****\")\n",
    "    print(vals)\n",
    "    print(\"*****\")\n",
    "    print(df[df.outlook == vals][\"play\"].value_counts())"
   ]
  },
  {
   "cell_type": "code",
   "execution_count": 26,
   "id": "692a5174",
   "metadata": {},
   "outputs": [
    {
     "data": {
      "text/plain": [
       "0.9709505944546686"
      ]
     },
     "execution_count": 26,
     "metadata": {},
     "output_type": "execute_result"
    }
   ],
   "source": [
    "entropy_sunny = -(2/5)*math.log2(2/5) - (3/5)*math.log2(3/5)\n",
    "entropy_sunny"
   ]
  },
  {
   "cell_type": "code",
   "execution_count": 30,
   "id": "a7f46dd2",
   "metadata": {},
   "outputs": [
    {
     "data": {
      "text/plain": [
       "0.0"
      ]
     },
     "execution_count": 30,
     "metadata": {},
     "output_type": "execute_result"
    }
   ],
   "source": [
    "entropy_overcast = (4/4)*math.log2(4/4)\n",
    "entropy_overcast"
   ]
  },
  {
   "cell_type": "code",
   "execution_count": 31,
   "id": "185b2269",
   "metadata": {},
   "outputs": [
    {
     "data": {
      "text/plain": [
       "0.9709505944546686"
      ]
     },
     "execution_count": 31,
     "metadata": {},
     "output_type": "execute_result"
    }
   ],
   "source": [
    "entropy_rain = -(3/5)*math.log2(3/5) - (2/5)*math.log2(2/5)\n",
    "entropy_rain "
   ]
  },
  {
   "cell_type": "markdown",
   "id": "d988a651",
   "metadata": {},
   "source": [
    "### Find Gain of Outlook Feature"
   ]
  },
  {
   "cell_type": "code",
   "execution_count": 34,
   "id": "804533b9",
   "metadata": {},
   "outputs": [
    {
     "name": "stdout",
     "output_type": "stream",
     "text": [
      "0.24674981977443933\n"
     ]
    }
   ],
   "source": [
    "gain_outlook = entropy_labels - (5/14)*entropy_sunny - (4/14)*entropy_overcast - (5/14)*entropy_rain\n",
    "print(gain_outlook)"
   ]
  },
  {
   "cell_type": "markdown",
   "id": "9ada7bca",
   "metadata": {},
   "source": [
    "### Entropy - Temp Labels"
   ]
  },
  {
   "cell_type": "code",
   "execution_count": 35,
   "id": "6d56244f",
   "metadata": {},
   "outputs": [
    {
     "name": "stdout",
     "output_type": "stream",
     "text": [
      "*****\n",
      "Hot\n",
      "*****\n",
      "No     2\n",
      "Yes    2\n",
      "Name: play, dtype: int64\n",
      "*****\n",
      "Mild\n",
      "*****\n",
      "Yes    4\n",
      "No     2\n",
      "Name: play, dtype: int64\n",
      "*****\n",
      "Cool\n",
      "*****\n",
      "Yes    3\n",
      "No     1\n",
      "Name: play, dtype: int64\n"
     ]
    }
   ],
   "source": [
    "temp_vals = df[\"temp\"].unique()\n",
    "\n",
    "for vals in temp_vals:\n",
    "    print(\"*****\")\n",
    "    print(vals)\n",
    "    print(\"*****\")\n",
    "    print(df[df.temp == vals][\"play\"].value_counts())"
   ]
  },
  {
   "cell_type": "code",
   "execution_count": 36,
   "id": "db184069",
   "metadata": {},
   "outputs": [
    {
     "data": {
      "text/plain": [
       "1.0"
      ]
     },
     "execution_count": 36,
     "metadata": {},
     "output_type": "execute_result"
    }
   ],
   "source": [
    "entropy_hot = -(2/4)*math.log2(2/4) - (2/4)*math.log2(2/4)\n",
    "entropy_hot"
   ]
  },
  {
   "cell_type": "code",
   "execution_count": 37,
   "id": "c9c446ec",
   "metadata": {},
   "outputs": [
    {
     "data": {
      "text/plain": [
       "0.9182958340544896"
      ]
     },
     "execution_count": 37,
     "metadata": {},
     "output_type": "execute_result"
    }
   ],
   "source": [
    "entropy_mild = -(4/6)*math.log2(4/6) - (2/6)*math.log2(2/6)\n",
    "entropy_mild"
   ]
  },
  {
   "cell_type": "code",
   "execution_count": 38,
   "id": "7216a3d2",
   "metadata": {},
   "outputs": [
    {
     "data": {
      "text/plain": [
       "0.8112781244591328"
      ]
     },
     "execution_count": 38,
     "metadata": {},
     "output_type": "execute_result"
    }
   ],
   "source": [
    "entropy_cool = -(3/4)*math.log2(3/4) - (1/4)*math.log2(1/4)\n",
    "entropy_cool"
   ]
  },
  {
   "cell_type": "markdown",
   "id": "08e5500f",
   "metadata": {},
   "source": [
    "### Find Gain of Temp Feature"
   ]
  },
  {
   "cell_type": "code",
   "execution_count": 39,
   "id": "680ebc2a",
   "metadata": {},
   "outputs": [
    {
     "name": "stdout",
     "output_type": "stream",
     "text": [
      "0.02922256565895487\n"
     ]
    }
   ],
   "source": [
    "gain_temp = entropy_labels - (4/14)*entropy_hot - (6/14)*entropy_mild - (4/14)*entropy_cool\n",
    "print(gain_temp)"
   ]
  },
  {
   "cell_type": "markdown",
   "id": "31fc6497",
   "metadata": {},
   "source": [
    "### Entropy - Humidity Labels"
   ]
  },
  {
   "cell_type": "code",
   "execution_count": 40,
   "id": "36f7e5eb",
   "metadata": {},
   "outputs": [
    {
     "name": "stdout",
     "output_type": "stream",
     "text": [
      "*****\n",
      "High\n",
      "*****\n",
      "No     4\n",
      "Yes    3\n",
      "Name: play, dtype: int64\n",
      "*****\n",
      "Normal\n",
      "*****\n",
      "Yes    6\n",
      "No     1\n",
      "Name: play, dtype: int64\n"
     ]
    }
   ],
   "source": [
    "humidity_vals = df[\"humidity\"].unique()\n",
    "\n",
    "for vals in humidity_vals:\n",
    "    print(\"*****\")\n",
    "    print(vals)\n",
    "    print(\"*****\")\n",
    "    print(df[df.humidity == vals][\"play\"].value_counts())"
   ]
  },
  {
   "cell_type": "code",
   "execution_count": 41,
   "id": "c0957cb6",
   "metadata": {},
   "outputs": [
    {
     "data": {
      "text/plain": [
       "0.9852281360342516"
      ]
     },
     "execution_count": 41,
     "metadata": {},
     "output_type": "execute_result"
    }
   ],
   "source": [
    "entropy_high = -(3/7)*math.log2(3/7) - (4/7)*math.log2(4/7)\n",
    "entropy_high"
   ]
  },
  {
   "cell_type": "code",
   "execution_count": 42,
   "id": "c224b2d3",
   "metadata": {},
   "outputs": [
    {
     "data": {
      "text/plain": [
       "0.5916727785823275"
      ]
     },
     "execution_count": 42,
     "metadata": {},
     "output_type": "execute_result"
    }
   ],
   "source": [
    "entropy_normal = -(6/7)*math.log2(6/7) - (1/7)*math.log2(1/7)\n",
    "entropy_normal"
   ]
  },
  {
   "cell_type": "markdown",
   "id": "f95a305c",
   "metadata": {},
   "source": [
    "### Find Gain of Humidity Feature"
   ]
  },
  {
   "cell_type": "code",
   "execution_count": 43,
   "id": "21e2487c",
   "metadata": {},
   "outputs": [
    {
     "name": "stdout",
     "output_type": "stream",
     "text": [
      "0.15183550136234159\n"
     ]
    }
   ],
   "source": [
    "gain_humidity = entropy_labels - (7/14)*entropy_high - (7/14)*entropy_normal\n",
    "print(gain_humidity)"
   ]
  },
  {
   "cell_type": "markdown",
   "id": "a53db06d",
   "metadata": {},
   "source": [
    "### Entropy - Wind Labels"
   ]
  },
  {
   "cell_type": "code",
   "execution_count": 44,
   "id": "842687ee",
   "metadata": {},
   "outputs": [
    {
     "name": "stdout",
     "output_type": "stream",
     "text": [
      "*****\n",
      "Weak\n",
      "*****\n",
      "Yes    6\n",
      "No     2\n",
      "Name: play, dtype: int64\n",
      "*****\n",
      "Strong\n",
      "*****\n",
      "No     3\n",
      "Yes    3\n",
      "Name: play, dtype: int64\n"
     ]
    }
   ],
   "source": [
    "wind_vals = df[\"wind\"].unique()\n",
    "\n",
    "for vals in wind_vals:\n",
    "    print(\"*****\")\n",
    "    print(vals)\n",
    "    print(\"*****\")\n",
    "    print(df[df.wind == vals][\"play\"].value_counts())"
   ]
  },
  {
   "cell_type": "code",
   "execution_count": 45,
   "id": "041604ad",
   "metadata": {},
   "outputs": [
    {
     "data": {
      "text/plain": [
       "0.8112781244591328"
      ]
     },
     "execution_count": 45,
     "metadata": {},
     "output_type": "execute_result"
    }
   ],
   "source": [
    "entropy_weak = -(6/8)*math.log2(6/8) - (2/8)*math.log2(2/8)\n",
    "entropy_weak"
   ]
  },
  {
   "cell_type": "code",
   "execution_count": 46,
   "id": "4a526f36",
   "metadata": {},
   "outputs": [
    {
     "data": {
      "text/plain": [
       "1.0"
      ]
     },
     "execution_count": 46,
     "metadata": {},
     "output_type": "execute_result"
    }
   ],
   "source": [
    "entropy_strong = -(3/6)*math.log2(3/6) - (3/6)*math.log2(3/6)\n",
    "entropy_strong"
   ]
  },
  {
   "cell_type": "markdown",
   "id": "83293f7c",
   "metadata": {},
   "source": [
    "### Find Gain of Wind Feature"
   ]
  },
  {
   "cell_type": "code",
   "execution_count": 47,
   "id": "3179c385",
   "metadata": {},
   "outputs": [
    {
     "name": "stdout",
     "output_type": "stream",
     "text": [
      "0.048127030408269544\n"
     ]
    }
   ],
   "source": [
    "gain_wind = entropy_labels - (8/14)*entropy_weak - (6/14)*entropy_strong\n",
    "print(gain_wind)"
   ]
  },
  {
   "cell_type": "markdown",
   "id": "882ceaa2",
   "metadata": {},
   "source": [
    "## Comparing all the gains, Outlook has the highest gain, hence chosen as the Root Node"
   ]
  },
  {
   "cell_type": "code",
   "execution_count": null,
   "id": "d041173d",
   "metadata": {},
   "outputs": [],
   "source": [
    "'''\n",
    "                    \n",
    "                               OUTLOOK\n",
    "                             /    |    \\\n",
    "                            /     |     \\\n",
    "                       Sunny  Overcast   Rain\n",
    "                                  |\n",
    "                                  |\n",
    "                                 Yes\n",
    "                                  \n",
    "                                  \n",
    "\n",
    "'''"
   ]
  },
  {
   "cell_type": "markdown",
   "id": "6a2d8bd8",
   "metadata": {},
   "source": [
    "### 1) Considering when only Sunny"
   ]
  },
  {
   "cell_type": "code",
   "execution_count": 53,
   "id": "c377d4c1",
   "metadata": {},
   "outputs": [
    {
     "data": {
      "text/html": [
       "<div>\n",
       "<style scoped>\n",
       "    .dataframe tbody tr th:only-of-type {\n",
       "        vertical-align: middle;\n",
       "    }\n",
       "\n",
       "    .dataframe tbody tr th {\n",
       "        vertical-align: top;\n",
       "    }\n",
       "\n",
       "    .dataframe thead th {\n",
       "        text-align: right;\n",
       "    }\n",
       "</style>\n",
       "<table border=\"1\" class=\"dataframe\">\n",
       "  <thead>\n",
       "    <tr style=\"text-align: right;\">\n",
       "      <th></th>\n",
       "      <th>outlook</th>\n",
       "      <th>temp</th>\n",
       "      <th>humidity</th>\n",
       "      <th>wind</th>\n",
       "      <th>play</th>\n",
       "    </tr>\n",
       "  </thead>\n",
       "  <tbody>\n",
       "    <tr>\n",
       "      <th>0</th>\n",
       "      <td>Sunny</td>\n",
       "      <td>Hot</td>\n",
       "      <td>High</td>\n",
       "      <td>Weak</td>\n",
       "      <td>No</td>\n",
       "    </tr>\n",
       "    <tr>\n",
       "      <th>1</th>\n",
       "      <td>Sunny</td>\n",
       "      <td>Hot</td>\n",
       "      <td>High</td>\n",
       "      <td>Strong</td>\n",
       "      <td>No</td>\n",
       "    </tr>\n",
       "    <tr>\n",
       "      <th>7</th>\n",
       "      <td>Sunny</td>\n",
       "      <td>Mild</td>\n",
       "      <td>High</td>\n",
       "      <td>Weak</td>\n",
       "      <td>No</td>\n",
       "    </tr>\n",
       "    <tr>\n",
       "      <th>8</th>\n",
       "      <td>Sunny</td>\n",
       "      <td>Cool</td>\n",
       "      <td>Normal</td>\n",
       "      <td>Weak</td>\n",
       "      <td>Yes</td>\n",
       "    </tr>\n",
       "    <tr>\n",
       "      <th>10</th>\n",
       "      <td>Sunny</td>\n",
       "      <td>Mild</td>\n",
       "      <td>Normal</td>\n",
       "      <td>Strong</td>\n",
       "      <td>Yes</td>\n",
       "    </tr>\n",
       "  </tbody>\n",
       "</table>\n",
       "</div>"
      ],
      "text/plain": [
       "   outlook  temp humidity    wind play\n",
       "0    Sunny   Hot     High    Weak   No\n",
       "1    Sunny   Hot     High  Strong   No\n",
       "7    Sunny  Mild     High    Weak   No\n",
       "8    Sunny  Cool   Normal    Weak  Yes\n",
       "10   Sunny  Mild   Normal  Strong  Yes"
      ]
     },
     "execution_count": 53,
     "metadata": {},
     "output_type": "execute_result"
    }
   ],
   "source": [
    "df_sunny = df[df.outlook==\"Sunny\"]\n",
    "df_sunny"
   ]
  },
  {
   "cell_type": "code",
   "execution_count": 60,
   "id": "111ab3fe",
   "metadata": {},
   "outputs": [
    {
     "data": {
      "text/plain": [
       "0.9709505944546686"
      ]
     },
     "execution_count": 60,
     "metadata": {},
     "output_type": "execute_result"
    }
   ],
   "source": [
    "df_sunny[\"play\"].value_counts()\n",
    "entropy_labels = -(2/5)*math.log2(2/5) - (3/5)*math.log2(3/5)\n",
    "entropy_labels"
   ]
  },
  {
   "cell_type": "markdown",
   "id": "68fa75df",
   "metadata": {},
   "source": [
    "## Find Gains Again"
   ]
  },
  {
   "cell_type": "markdown",
   "id": "63fdb88e",
   "metadata": {},
   "source": [
    "### Temp Gain w.r.t Sunny "
   ]
  },
  {
   "cell_type": "code",
   "execution_count": 54,
   "id": "d6ecd96e",
   "metadata": {},
   "outputs": [
    {
     "name": "stdout",
     "output_type": "stream",
     "text": [
      "*****\n",
      "Hot\n",
      "*****\n",
      "No    2\n",
      "Name: play, dtype: int64\n",
      "*****\n",
      "Mild\n",
      "*****\n",
      "No     1\n",
      "Yes    1\n",
      "Name: play, dtype: int64\n",
      "*****\n",
      "Cool\n",
      "*****\n",
      "Yes    1\n",
      "Name: play, dtype: int64\n"
     ]
    }
   ],
   "source": [
    "temp_vals = df_sunny[\"temp\"].unique()\n",
    "\n",
    "for vals in temp_vals:\n",
    "    print(\"*****\")\n",
    "    print(vals)\n",
    "    print(\"*****\")\n",
    "    print(df_sunny[df_sunny.temp == vals][\"play\"].value_counts())"
   ]
  },
  {
   "cell_type": "code",
   "execution_count": 55,
   "id": "a5df5f71",
   "metadata": {},
   "outputs": [
    {
     "data": {
      "text/plain": [
       "-0.0"
      ]
     },
     "execution_count": 55,
     "metadata": {},
     "output_type": "execute_result"
    }
   ],
   "source": [
    "entropy_hot = -(2/2)*math.log2(2/2)\n",
    "entropy_hot"
   ]
  },
  {
   "cell_type": "code",
   "execution_count": 57,
   "id": "b1e45dd9",
   "metadata": {},
   "outputs": [
    {
     "data": {
      "text/plain": [
       "1.0"
      ]
     },
     "execution_count": 57,
     "metadata": {},
     "output_type": "execute_result"
    }
   ],
   "source": [
    "entropy_mild = -(1/2)*math.log2(1/2) * 2\n",
    "entropy_mild"
   ]
  },
  {
   "cell_type": "code",
   "execution_count": 58,
   "id": "d3dfcdcd",
   "metadata": {},
   "outputs": [
    {
     "data": {
      "text/plain": [
       "-0.0"
      ]
     },
     "execution_count": 58,
     "metadata": {},
     "output_type": "execute_result"
    }
   ],
   "source": [
    "entropy_cool = -(1/1)*math.log2(1/1)\n",
    "entropy_cool"
   ]
  },
  {
   "cell_type": "code",
   "execution_count": 61,
   "id": "fa5a2cd1",
   "metadata": {},
   "outputs": [
    {
     "name": "stdout",
     "output_type": "stream",
     "text": [
      "0.5709505944546686\n"
     ]
    }
   ],
   "source": [
    "gain_temp = entropy_labels - (2/5)*entropy_hot - (2/5)*entropy_mild - (1/5)*entropy_cool\n",
    "print(gain_temp)"
   ]
  },
  {
   "cell_type": "markdown",
   "id": "1e7de262",
   "metadata": {},
   "source": [
    "### Humidity Gain w.r.t Sunny "
   ]
  },
  {
   "cell_type": "code",
   "execution_count": 63,
   "id": "5456d09c",
   "metadata": {},
   "outputs": [
    {
     "name": "stdout",
     "output_type": "stream",
     "text": [
      "*****\n",
      "High\n",
      "*****\n",
      "No    3\n",
      "Name: play, dtype: int64\n",
      "*****\n",
      "Normal\n",
      "*****\n",
      "Yes    2\n",
      "Name: play, dtype: int64\n"
     ]
    }
   ],
   "source": [
    "humidity_vals = df_sunny[\"humidity\"].unique()\n",
    "\n",
    "for vals in humidity_vals:\n",
    "    print(\"*****\")\n",
    "    print(vals)\n",
    "    print(\"*****\")\n",
    "    print(df_sunny[df_sunny.humidity == vals][\"play\"].value_counts())"
   ]
  },
  {
   "cell_type": "code",
   "execution_count": 66,
   "id": "0af3072a",
   "metadata": {},
   "outputs": [
    {
     "name": "stdout",
     "output_type": "stream",
     "text": [
      "0.9709505944546686\n"
     ]
    }
   ],
   "source": [
    "#both entropies appear to be zero\n",
    "gain_humidity = entropy_labels\n",
    "print(gain_humidity)"
   ]
  },
  {
   "cell_type": "markdown",
   "id": "47b2f8e5",
   "metadata": {},
   "source": [
    "### Wind Gain w.r.t Sunny "
   ]
  },
  {
   "cell_type": "code",
   "execution_count": 67,
   "id": "cf277ce3",
   "metadata": {},
   "outputs": [
    {
     "name": "stdout",
     "output_type": "stream",
     "text": [
      "*****\n",
      "Weak\n",
      "*****\n",
      "No     2\n",
      "Yes    1\n",
      "Name: play, dtype: int64\n",
      "*****\n",
      "Strong\n",
      "*****\n",
      "No     1\n",
      "Yes    1\n",
      "Name: play, dtype: int64\n"
     ]
    }
   ],
   "source": [
    "wind_vals = df_sunny[\"wind\"].unique()\n",
    "\n",
    "for vals in wind_vals:\n",
    "    print(\"*****\")\n",
    "    print(vals)\n",
    "    print(\"*****\")\n",
    "    print(df_sunny[df_sunny.wind == vals][\"play\"].value_counts())"
   ]
  },
  {
   "cell_type": "code",
   "execution_count": 68,
   "id": "fd9fa801",
   "metadata": {},
   "outputs": [
    {
     "data": {
      "text/plain": [
       "0.9182958340544896"
      ]
     },
     "execution_count": 68,
     "metadata": {},
     "output_type": "execute_result"
    }
   ],
   "source": [
    "entropy_weak = -(1/3)*math.log2(1/3) - (2/3)*math.log2(2/3)\n",
    "entropy_weak"
   ]
  },
  {
   "cell_type": "code",
   "execution_count": 69,
   "id": "202669f0",
   "metadata": {},
   "outputs": [],
   "source": [
    "entropy_strong = 1"
   ]
  },
  {
   "cell_type": "code",
   "execution_count": 70,
   "id": "1080d18d",
   "metadata": {},
   "outputs": [
    {
     "name": "stdout",
     "output_type": "stream",
     "text": [
      "0.01997309402197489\n"
     ]
    }
   ],
   "source": [
    "gain_wind = entropy_labels - (3/5)*entropy_weak - (2/5)*entropy_strong\n",
    "print(gain_wind)"
   ]
  },
  {
   "cell_type": "markdown",
   "id": "7720ce07",
   "metadata": {},
   "source": [
    "# Comparing all the gains, Humidity has the highest gain, hence chosen as the Next Node"
   ]
  },
  {
   "cell_type": "code",
   "execution_count": null,
   "id": "5ada3660",
   "metadata": {},
   "outputs": [],
   "source": [
    "'''\n",
    "                    \n",
    "                               OUTLOOK\n",
    "                             /    |    \\\n",
    "                            /     |     \\\n",
    "                       Sunny  Overcast   Rain\n",
    "                         /         |\n",
    "                        /          |\n",
    "                Humidity          Yes\n",
    "                 /    \\                \n",
    "                /      \\         \n",
    "             High    Normal\n",
    "              /          \\\n",
    "            No           Yes\n",
    "             \n",
    " \n",
    "\n",
    "'''"
   ]
  },
  {
   "cell_type": "markdown",
   "id": "c2ac45ae",
   "metadata": {},
   "source": [
    "### 2) Considering when only Rain"
   ]
  },
  {
   "cell_type": "code",
   "execution_count": 71,
   "id": "e84e50c4",
   "metadata": {},
   "outputs": [
    {
     "data": {
      "text/html": [
       "<div>\n",
       "<style scoped>\n",
       "    .dataframe tbody tr th:only-of-type {\n",
       "        vertical-align: middle;\n",
       "    }\n",
       "\n",
       "    .dataframe tbody tr th {\n",
       "        vertical-align: top;\n",
       "    }\n",
       "\n",
       "    .dataframe thead th {\n",
       "        text-align: right;\n",
       "    }\n",
       "</style>\n",
       "<table border=\"1\" class=\"dataframe\">\n",
       "  <thead>\n",
       "    <tr style=\"text-align: right;\">\n",
       "      <th></th>\n",
       "      <th>outlook</th>\n",
       "      <th>temp</th>\n",
       "      <th>humidity</th>\n",
       "      <th>wind</th>\n",
       "      <th>play</th>\n",
       "    </tr>\n",
       "  </thead>\n",
       "  <tbody>\n",
       "    <tr>\n",
       "      <th>3</th>\n",
       "      <td>Rain</td>\n",
       "      <td>Mild</td>\n",
       "      <td>High</td>\n",
       "      <td>Weak</td>\n",
       "      <td>Yes</td>\n",
       "    </tr>\n",
       "    <tr>\n",
       "      <th>4</th>\n",
       "      <td>Rain</td>\n",
       "      <td>Cool</td>\n",
       "      <td>Normal</td>\n",
       "      <td>Weak</td>\n",
       "      <td>Yes</td>\n",
       "    </tr>\n",
       "    <tr>\n",
       "      <th>5</th>\n",
       "      <td>Rain</td>\n",
       "      <td>Cool</td>\n",
       "      <td>Normal</td>\n",
       "      <td>Strong</td>\n",
       "      <td>No</td>\n",
       "    </tr>\n",
       "    <tr>\n",
       "      <th>9</th>\n",
       "      <td>Rain</td>\n",
       "      <td>Mild</td>\n",
       "      <td>Normal</td>\n",
       "      <td>Weak</td>\n",
       "      <td>Yes</td>\n",
       "    </tr>\n",
       "    <tr>\n",
       "      <th>13</th>\n",
       "      <td>Rain</td>\n",
       "      <td>Mild</td>\n",
       "      <td>High</td>\n",
       "      <td>Strong</td>\n",
       "      <td>No</td>\n",
       "    </tr>\n",
       "  </tbody>\n",
       "</table>\n",
       "</div>"
      ],
      "text/plain": [
       "   outlook  temp humidity    wind play\n",
       "3     Rain  Mild     High    Weak  Yes\n",
       "4     Rain  Cool   Normal    Weak  Yes\n",
       "5     Rain  Cool   Normal  Strong   No\n",
       "9     Rain  Mild   Normal    Weak  Yes\n",
       "13    Rain  Mild     High  Strong   No"
      ]
     },
     "execution_count": 71,
     "metadata": {},
     "output_type": "execute_result"
    }
   ],
   "source": [
    "df_rain = df[df.outlook==\"Rain\"]\n",
    "df_rain"
   ]
  },
  {
   "cell_type": "code",
   "execution_count": 72,
   "id": "6e098fae",
   "metadata": {},
   "outputs": [
    {
     "data": {
      "text/plain": [
       "0.9709505944546686"
      ]
     },
     "execution_count": 72,
     "metadata": {},
     "output_type": "execute_result"
    }
   ],
   "source": [
    "df_rain[\"play\"].value_counts()\n",
    "entropy_labels = -(3/5)*math.log2(3/5) - (2/5)*math.log2(2/5)\n",
    "entropy_labels"
   ]
  },
  {
   "cell_type": "markdown",
   "id": "8ccb318b",
   "metadata": {},
   "source": [
    "## Find Gains Again"
   ]
  },
  {
   "cell_type": "markdown",
   "id": "f12f761d",
   "metadata": {},
   "source": [
    "### Temp Gain w.r.t Rain"
   ]
  },
  {
   "cell_type": "code",
   "execution_count": 73,
   "id": "1d667a0d",
   "metadata": {},
   "outputs": [
    {
     "name": "stdout",
     "output_type": "stream",
     "text": [
      "*****\n",
      "Mild\n",
      "*****\n",
      "Yes    2\n",
      "No     1\n",
      "Name: play, dtype: int64\n",
      "*****\n",
      "Cool\n",
      "*****\n",
      "Yes    1\n",
      "No     1\n",
      "Name: play, dtype: int64\n"
     ]
    }
   ],
   "source": [
    "temp_vals = df_rain[\"temp\"].unique()\n",
    "\n",
    "for vals in temp_vals:\n",
    "    print(\"*****\")\n",
    "    print(vals)\n",
    "    print(\"*****\")\n",
    "    print(df_rain[df_rain.temp == vals][\"play\"].value_counts())"
   ]
  },
  {
   "cell_type": "code",
   "execution_count": 74,
   "id": "ce35d4ed",
   "metadata": {},
   "outputs": [],
   "source": [
    "entropy_hot = 0"
   ]
  },
  {
   "cell_type": "code",
   "execution_count": 75,
   "id": "22037187",
   "metadata": {},
   "outputs": [
    {
     "data": {
      "text/plain": [
       "0.9182958340544896"
      ]
     },
     "execution_count": 75,
     "metadata": {},
     "output_type": "execute_result"
    }
   ],
   "source": [
    "entropy_mild = -(2/3)*math.log2(2/3) -(1/3)*math.log2(1/3)\n",
    "entropy_mild"
   ]
  },
  {
   "cell_type": "code",
   "execution_count": 76,
   "id": "a22a6708",
   "metadata": {},
   "outputs": [],
   "source": [
    "entropy_cool = 1"
   ]
  },
  {
   "cell_type": "code",
   "execution_count": 79,
   "id": "2361d00a",
   "metadata": {},
   "outputs": [
    {
     "name": "stdout",
     "output_type": "stream",
     "text": [
      "0.01997309402197489\n"
     ]
    }
   ],
   "source": [
    "gain_temp = entropy_labels - (3/5)*entropy_mild - (2/5)*entropy_cool\n",
    "print(gain_temp)"
   ]
  },
  {
   "cell_type": "markdown",
   "id": "692c3a9b",
   "metadata": {},
   "source": [
    "### Humidity Gain w.r.t Rain"
   ]
  },
  {
   "cell_type": "code",
   "execution_count": 81,
   "id": "21b0a836",
   "metadata": {},
   "outputs": [
    {
     "name": "stdout",
     "output_type": "stream",
     "text": [
      "*****\n",
      "High\n",
      "*****\n",
      "Yes    1\n",
      "No     1\n",
      "Name: play, dtype: int64\n",
      "*****\n",
      "Normal\n",
      "*****\n",
      "Yes    2\n",
      "No     1\n",
      "Name: play, dtype: int64\n"
     ]
    }
   ],
   "source": [
    "humidity_vals = df_rain[\"humidity\"].unique()\n",
    "\n",
    "for vals in humidity_vals:\n",
    "    print(\"*****\")\n",
    "    print(vals)\n",
    "    print(\"*****\")\n",
    "    print(df_rain[df_rain.humidity == vals][\"play\"].value_counts())"
   ]
  },
  {
   "cell_type": "code",
   "execution_count": 82,
   "id": "feb61c4e",
   "metadata": {},
   "outputs": [
    {
     "name": "stdout",
     "output_type": "stream",
     "text": [
      "0.019970594454668533\n"
     ]
    }
   ],
   "source": [
    "entropy_high = 1\n",
    "entropy_normal = 0.9183\n",
    "gain_humidity = entropy_labels - (2/5)*entropy_high - (3/5)*entropy_normal\n",
    "print(gain_humidity)"
   ]
  },
  {
   "cell_type": "markdown",
   "id": "c77e3980",
   "metadata": {},
   "source": [
    "### Wind Gain w.r.t Rain"
   ]
  },
  {
   "cell_type": "code",
   "execution_count": 83,
   "id": "6eb81164",
   "metadata": {},
   "outputs": [
    {
     "name": "stdout",
     "output_type": "stream",
     "text": [
      "*****\n",
      "Weak\n",
      "*****\n",
      "Yes    3\n",
      "Name: play, dtype: int64\n",
      "*****\n",
      "Strong\n",
      "*****\n",
      "No    2\n",
      "Name: play, dtype: int64\n"
     ]
    }
   ],
   "source": [
    "wind_vals = df_rain[\"wind\"].unique()\n",
    "\n",
    "for vals in wind_vals:\n",
    "    print(\"*****\")\n",
    "    print(vals)\n",
    "    print(\"*****\")\n",
    "    print(df_rain[df_rain.wind == vals][\"play\"].value_counts())"
   ]
  },
  {
   "cell_type": "code",
   "execution_count": 85,
   "id": "04145272",
   "metadata": {},
   "outputs": [
    {
     "name": "stdout",
     "output_type": "stream",
     "text": [
      "0.9709505944546686\n"
     ]
    }
   ],
   "source": [
    "entropy_weak = 0\n",
    "entropy_strong = 0\n",
    "gain_wind = entropy_labels\n",
    "print(gain_wind)"
   ]
  },
  {
   "cell_type": "markdown",
   "id": "fd4ca624",
   "metadata": {},
   "source": [
    "# Comparing all the gains, Wind has the highest gain, hence chosen as the Next Node - Final Tree has also been made"
   ]
  },
  {
   "cell_type": "code",
   "execution_count": null,
   "id": "c0617eb9",
   "metadata": {},
   "outputs": [],
   "source": [
    "'''\n",
    "                    \n",
    "                               OUTLOOK\n",
    "                             \n",
    "                             /    |    \\\n",
    "                            /     |     \\\n",
    "                       Sunny  Overcast   Rain\n",
    "                         /         |       \\\n",
    "                        /          |        \\\n",
    "                Humidity          Yes       Wind\n",
    "                 /    \\                     /   \\\n",
    "                /      \\                   /     \\\n",
    "             High    Normal             Strong   Weak\n",
    "              /          \\               /        \\\n",
    "            No           Yes            No        Yes\n",
    "             \n",
    " \n",
    "\n",
    "'''"
   ]
  },
  {
   "cell_type": "markdown",
   "id": "3419a79c",
   "metadata": {},
   "source": [
    "### Q. You have used Naïve Bayes for this dataset in the previous labs, can you tell where to use a"
   ]
  },
  {
   "cell_type": "markdown",
   "id": "97be6546",
   "metadata": {},
   "source": [
    "### decision tree and where to use Naïve Bayes?"
   ]
  },
  {
   "cell_type": "markdown",
   "id": "fdb8dfe2",
   "metadata": {},
   "source": [
    "Decision Tree is a much clearer algorithm for data where most of the features entail absolute categorical values. \n",
    "Thus the data can be subdivided in small chunks of categorical data to find information gain, and find the exact rule-based\n",
    "patterns for classification. \n",
    "\n",
    "Naive Bayes is a better approach for continuous data where features may show some level of dependence on each other. "
   ]
  },
  {
   "cell_type": "code",
   "execution_count": null,
   "id": "a46bc297",
   "metadata": {},
   "outputs": [],
   "source": []
  }
 ],
 "metadata": {
  "kernelspec": {
   "display_name": "Python 3 (ipykernel)",
   "language": "python",
   "name": "python3"
  },
  "language_info": {
   "codemirror_mode": {
    "name": "ipython",
    "version": 3
   },
   "file_extension": ".py",
   "mimetype": "text/x-python",
   "name": "python",
   "nbconvert_exporter": "python",
   "pygments_lexer": "ipython3",
   "version": "3.9.7"
  }
 },
 "nbformat": 4,
 "nbformat_minor": 5
}
