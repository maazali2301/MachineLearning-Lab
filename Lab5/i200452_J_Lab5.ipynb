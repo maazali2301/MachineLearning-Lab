{
 "cells": [
  {
   "cell_type": "markdown",
   "id": "7f8790ee",
   "metadata": {},
   "source": [
    "## Bayes Theorem in Machine Learning  - Lab 5 - AL3002"
   ]
  },
  {
   "cell_type": "markdown",
   "id": "89e879f8",
   "metadata": {},
   "source": [
    "#### Maaz Ali Nadeem, i20-0452, BS-AI 5-J"
   ]
  },
  {
   "cell_type": "code",
   "execution_count": 1,
   "id": "05aab9fc",
   "metadata": {},
   "outputs": [],
   "source": [
    "import numpy as np\n",
    "import pandas as pd\n",
    "from scipy import stats as st\n",
    "from sklearn.preprocessing import LabelEncoder\n",
    "from sklearn.model_selection import train_test_split\n",
    "import matplotlib.pyplot as plt\n",
    "import seaborn as sns"
   ]
  },
  {
   "cell_type": "markdown",
   "id": "de5a57bf",
   "metadata": {},
   "source": [
    "1) You and your friend are standing in front of a magician and he has a basket with 6 white,\n",
    "4 red and 5 blue balls, each time the magician draws 3 balls and asks you to predict\n",
    "what would be the color of the balls. If you predict correctly the magician loses the\n",
    "game and you win. Since you have become a statistician after doing the ML assignment,\n",
    "what should be the optimal color scheme of the balls that you would propose in order\n",
    "to win the game?"
   ]
  },
  {
   "cell_type": "code",
   "execution_count": 4,
   "id": "9998b987",
   "metadata": {},
   "outputs": [
    {
     "data": {
      "text/plain": [
       "['W', 'W', 'W', 'W', 'W', 'W', 'R', 'R', 'R', 'R', 'B', 'B', 'B', 'B', 'B']"
      ]
     },
     "execution_count": 4,
     "metadata": {},
     "output_type": "execute_result"
    }
   ],
   "source": [
    "sample_set = ['W']*6 + ['R']*4 + ['B']*5\n",
    "sample_set"
   ]
  },
  {
   "cell_type": "code",
   "execution_count": 60,
   "id": "1d7f93a0",
   "metadata": {},
   "outputs": [
    {
     "data": {
      "text/plain": [
       "[('W', 'R', 'B'),\n",
       " ('W', 'B', 'B'),\n",
       " ('W', 'W', 'B'),\n",
       " ('B', 'B', 'B'),\n",
       " ('R', 'B', 'B'),\n",
       " ('R', 'R', 'R'),\n",
       " ('W', 'R', 'R'),\n",
       " ('W', 'W', 'R'),\n",
       " ('W', 'W', 'W'),\n",
       " ('R', 'R', 'B')]"
      ]
     },
     "execution_count": 60,
     "metadata": {},
     "output_type": "execute_result"
    }
   ],
   "source": [
    "from itertools import combinations\n",
    "from itertools import permutations \n",
    "\n",
    "all_comb = combinations(sample_set, 3)\n",
    "all_comb = list(all_comb)\n",
    "unique_comb = set(all_comb)\n",
    "unique_comb = list(unique_comb)\n",
    "unique_comb"
   ]
  },
  {
   "cell_type": "code",
   "execution_count": 91,
   "id": "ecaa35ba",
   "metadata": {},
   "outputs": [],
   "source": [
    "counts = [0] * len(unique_comb)\n",
    "\n",
    "for i,j in enumerate(unique_comb):\n",
    "    counts[i] = all_comb.count(j)\n",
    "    \n",
    "for index, r in enumerate(counts):\n",
    "    if r == max(counts):\n",
    "        break\n",
    "        \n",
    "    print(\"Probability: \", r/len(all_comb), \"\\n\")"
   ]
  },
  {
   "cell_type": "markdown",
   "id": "5eff1cba",
   "metadata": {},
   "source": [
    "## Gaussian Naive Bayes"
   ]
  },
  {
   "cell_type": "markdown",
   "id": "c9d07732",
   "metadata": {},
   "source": [
    "Write a function that takes input from user and determines the input parameters belong\n",
    "which class (using Naïve assumptions) (use the provided dataset) . Compare your results\n",
    "with GaussianNB() built in function"
   ]
  },
  {
   "cell_type": "code",
   "execution_count": 92,
   "id": "baf17c06",
   "metadata": {},
   "outputs": [],
   "source": [
    "import pandas as pd\n",
    "import numpy as np"
   ]
  },
  {
   "cell_type": "code",
   "execution_count": 94,
   "id": "4849f358",
   "metadata": {},
   "outputs": [
    {
     "data": {
      "text/html": [
       "<div>\n",
       "<style scoped>\n",
       "    .dataframe tbody tr th:only-of-type {\n",
       "        vertical-align: middle;\n",
       "    }\n",
       "\n",
       "    .dataframe tbody tr th {\n",
       "        vertical-align: top;\n",
       "    }\n",
       "\n",
       "    .dataframe thead th {\n",
       "        text-align: right;\n",
       "    }\n",
       "</style>\n",
       "<table border=\"1\" class=\"dataframe\">\n",
       "  <thead>\n",
       "    <tr style=\"text-align: right;\">\n",
       "      <th></th>\n",
       "      <th>sepal.length</th>\n",
       "      <th>sepal.width</th>\n",
       "      <th>petal.length</th>\n",
       "      <th>petal.width</th>\n",
       "      <th>variety</th>\n",
       "    </tr>\n",
       "  </thead>\n",
       "  <tbody>\n",
       "    <tr>\n",
       "      <th>0</th>\n",
       "      <td>5.1</td>\n",
       "      <td>3.5</td>\n",
       "      <td>1.4</td>\n",
       "      <td>0.2</td>\n",
       "      <td>Setosa</td>\n",
       "    </tr>\n",
       "    <tr>\n",
       "      <th>1</th>\n",
       "      <td>4.9</td>\n",
       "      <td>3.0</td>\n",
       "      <td>1.4</td>\n",
       "      <td>0.2</td>\n",
       "      <td>Setosa</td>\n",
       "    </tr>\n",
       "    <tr>\n",
       "      <th>2</th>\n",
       "      <td>4.7</td>\n",
       "      <td>3.2</td>\n",
       "      <td>1.3</td>\n",
       "      <td>0.2</td>\n",
       "      <td>Setosa</td>\n",
       "    </tr>\n",
       "    <tr>\n",
       "      <th>3</th>\n",
       "      <td>4.6</td>\n",
       "      <td>3.1</td>\n",
       "      <td>1.5</td>\n",
       "      <td>0.2</td>\n",
       "      <td>Setosa</td>\n",
       "    </tr>\n",
       "    <tr>\n",
       "      <th>4</th>\n",
       "      <td>5.0</td>\n",
       "      <td>3.6</td>\n",
       "      <td>1.4</td>\n",
       "      <td>0.2</td>\n",
       "      <td>Setosa</td>\n",
       "    </tr>\n",
       "    <tr>\n",
       "      <th>...</th>\n",
       "      <td>...</td>\n",
       "      <td>...</td>\n",
       "      <td>...</td>\n",
       "      <td>...</td>\n",
       "      <td>...</td>\n",
       "    </tr>\n",
       "    <tr>\n",
       "      <th>145</th>\n",
       "      <td>6.7</td>\n",
       "      <td>3.0</td>\n",
       "      <td>5.2</td>\n",
       "      <td>2.3</td>\n",
       "      <td>Virginica</td>\n",
       "    </tr>\n",
       "    <tr>\n",
       "      <th>146</th>\n",
       "      <td>6.3</td>\n",
       "      <td>2.5</td>\n",
       "      <td>5.0</td>\n",
       "      <td>1.9</td>\n",
       "      <td>Virginica</td>\n",
       "    </tr>\n",
       "    <tr>\n",
       "      <th>147</th>\n",
       "      <td>6.5</td>\n",
       "      <td>3.0</td>\n",
       "      <td>5.2</td>\n",
       "      <td>2.0</td>\n",
       "      <td>Virginica</td>\n",
       "    </tr>\n",
       "    <tr>\n",
       "      <th>148</th>\n",
       "      <td>6.2</td>\n",
       "      <td>3.4</td>\n",
       "      <td>5.4</td>\n",
       "      <td>2.3</td>\n",
       "      <td>Virginica</td>\n",
       "    </tr>\n",
       "    <tr>\n",
       "      <th>149</th>\n",
       "      <td>5.9</td>\n",
       "      <td>3.0</td>\n",
       "      <td>5.1</td>\n",
       "      <td>1.8</td>\n",
       "      <td>Virginica</td>\n",
       "    </tr>\n",
       "  </tbody>\n",
       "</table>\n",
       "<p>150 rows × 5 columns</p>\n",
       "</div>"
      ],
      "text/plain": [
       "     sepal.length  sepal.width  petal.length  petal.width    variety\n",
       "0             5.1          3.5           1.4          0.2     Setosa\n",
       "1             4.9          3.0           1.4          0.2     Setosa\n",
       "2             4.7          3.2           1.3          0.2     Setosa\n",
       "3             4.6          3.1           1.5          0.2     Setosa\n",
       "4             5.0          3.6           1.4          0.2     Setosa\n",
       "..            ...          ...           ...          ...        ...\n",
       "145           6.7          3.0           5.2          2.3  Virginica\n",
       "146           6.3          2.5           5.0          1.9  Virginica\n",
       "147           6.5          3.0           5.2          2.0  Virginica\n",
       "148           6.2          3.4           5.4          2.3  Virginica\n",
       "149           5.9          3.0           5.1          1.8  Virginica\n",
       "\n",
       "[150 rows x 5 columns]"
      ]
     },
     "execution_count": 94,
     "metadata": {},
     "output_type": "execute_result"
    }
   ],
   "source": [
    "df = pd.read_csv(\"iris.csv\")\n",
    "df"
   ]
  },
  {
   "cell_type": "code",
   "execution_count": 101,
   "id": "5e63b356",
   "metadata": {},
   "outputs": [
    {
     "name": "stdout",
     "output_type": "stream",
     "text": [
      "Gaussian Naive Bayes model accuracy(in %): 94.73684210526315\n"
     ]
    }
   ],
   "source": [
    "#Applying built-in Naive Bayes\n",
    "\n",
    "X = df.drop(\"variety\", axis=1)\n",
    "y = df[\"variety\"]\n",
    "  \n",
    "# splitting X and y into training and testing sets\n",
    "from sklearn.model_selection import train_test_split\n",
    "X_train, X_test, y_train, y_test = train_test_split(X, y, test_size=0.25, random_state=51)\n",
    "\n",
    "# training the model on training set\n",
    "from sklearn.naive_bayes import GaussianNB\n",
    "gnb = GaussianNB()\n",
    "gnb.fit(X_train, y_train)\n",
    "  \n",
    "# making predictions on the testing set\n",
    "y_pred = gnb.predict(X_test)\n",
    "  \n",
    "# comparing actual response values (y_test) with predicted response values (y_pred)\n",
    "from sklearn import metrics\n",
    "print(\"Gaussian Naive Bayes model accuracy(in %):\", metrics.accuracy_score(y_test, y_pred)*100)"
   ]
  },
  {
   "cell_type": "markdown",
   "id": "9db2dca6",
   "metadata": {},
   "source": [
    "## Naive Bayes from scratch"
   ]
  },
  {
   "cell_type": "markdown",
   "id": "5adceb0a",
   "metadata": {},
   "source": [
    "Separate By Class"
   ]
  },
  {
   "cell_type": "code",
   "execution_count": 118,
   "id": "303aff3b",
   "metadata": {},
   "outputs": [
    {
     "data": {
      "text/plain": [
       "71     Versicolor\n",
       "81     Versicolor\n",
       "88     Versicolor\n",
       "118     Virginica\n",
       "80     Versicolor\n",
       "          ...    \n",
       "110     Virginica\n",
       "122     Virginica\n",
       "105     Virginica\n",
       "16         Setosa\n",
       "57     Versicolor\n",
       "Name: variety, Length: 112, dtype: object"
      ]
     },
     "execution_count": 118,
     "metadata": {},
     "output_type": "execute_result"
    }
   ],
   "source": [
    "for i in range(0, len(X_train)):\n",
    "    if ()"
   ]
  },
  {
   "cell_type": "markdown",
   "id": "dbd3e81b",
   "metadata": {},
   "source": [
    "### Categorization of the Dataset"
   ]
  },
  {
   "cell_type": "code",
   "execution_count": 106,
   "id": "698b1f40",
   "metadata": {},
   "outputs": [],
   "source": [
    "df2 = df.copy(deep=True)"
   ]
  },
  {
   "cell_type": "code",
   "execution_count": 107,
   "id": "97dbdc4c",
   "metadata": {},
   "outputs": [
    {
     "data": {
      "text/plain": [
       "(array([ 9., 23., 14., 27., 16., 26., 18.,  6.,  5.,  6.]),\n",
       " array([4.3 , 4.66, 5.02, 5.38, 5.74, 6.1 , 6.46, 6.82, 7.18, 7.54, 7.9 ]),\n",
       " <BarContainer object of 10 artists>)"
      ]
     },
     "execution_count": 107,
     "metadata": {},
     "output_type": "execute_result"
    },
    {
     "data": {
      "image/png": "[encoded data removed]",
      "text/plain": [
       "<Figure size 432x288 with 1 Axes>"
      ]
     },
     "metadata": {
      "needs_background": "light"
     },
     "output_type": "display_data"
    }
   ],
   "source": [
    "import matplotlib.pyplot as plt\n",
    "plt.hist(list(df[\"sepal.length\"]))"
   ]
  },
  {
   "cell_type": "code",
   "execution_count": 108,
   "id": "f363424c",
   "metadata": {},
   "outputs": [
    {
     "data": {
      "text/plain": [
       "(array([ 4.,  7., 22., 24., 37., 31., 10., 11.,  2.,  2.]),\n",
       " array([2.  , 2.24, 2.48, 2.72, 2.96, 3.2 , 3.44, 3.68, 3.92, 4.16, 4.4 ]),\n",
       " <BarContainer object of 10 artists>)"
      ]
     },
     "execution_count": 108,
     "metadata": {},
     "output_type": "execute_result"
    },
    {
     "data": {
      "image/png": "[encoded data removed]",
      "text/plain": [
       "<Figure size 432x288 with 1 Axes>"
      ]
     },
     "metadata": {
      "needs_background": "light"
     },
     "output_type": "display_data"
    }
   ],
   "source": [
    "import matplotlib.pyplot as plt\n",
    "plt.hist(list(df[\"sepal.width\"]))"
   ]
  },
  {
   "cell_type": "code",
   "execution_count": 109,
   "id": "ab0cd558",
   "metadata": {},
   "outputs": [
    {
     "data": {
      "text/plain": [
       "(array([41.,  8.,  1.,  7.,  8., 33.,  6., 23.,  9., 14.]),\n",
       " array([0.1 , 0.34, 0.58, 0.82, 1.06, 1.3 , 1.54, 1.78, 2.02, 2.26, 2.5 ]),\n",
       " <BarContainer object of 10 artists>)"
      ]
     },
     "execution_count": 109,
     "metadata": {},
     "output_type": "execute_result"
    },
    {
     "data": {
      "image/png": "[encoded data removed]",
      "text/plain": [
       "<Figure size 432x288 with 1 Axes>"
      ]
     },
     "metadata": {
      "needs_background": "light"
     },
     "output_type": "display_data"
    }
   ],
   "source": [
    "import matplotlib.pyplot as plt\n",
    "plt.hist(list(df[\"petal.width\"]))"
   ]
  },
  {
   "cell_type": "code",
   "execution_count": 110,
   "id": "34a64f72",
   "metadata": {},
   "outputs": [
    {
     "data": {
      "text/plain": [
       "(array([37., 13.,  0.,  3.,  8., 26., 29., 18., 11.,  5.]),\n",
       " array([1.  , 1.59, 2.18, 2.77, 3.36, 3.95, 4.54, 5.13, 5.72, 6.31, 6.9 ]),\n",
       " <BarContainer object of 10 artists>)"
      ]
     },
     "execution_count": 110,
     "metadata": {},
     "output_type": "execute_result"
    },
    {
     "data": {
      "image/png": "[encoded data removed]",
      "text/plain": [
       "<Figure size 432x288 with 1 Axes>"
      ]
     },
     "metadata": {
      "needs_background": "light"
     },
     "output_type": "display_data"
    }
   ],
   "source": [
    "import matplotlib.pyplot as plt\n",
    "plt.hist(list(df[\"petal.length\"]))"
   ]
  },
  {
   "cell_type": "code",
   "execution_count": 111,
   "id": "8976b777",
   "metadata": {},
   "outputs": [
    {
     "name": "stderr",
     "output_type": "stream",
     "text": [
      "C:\\Users\\MAAZAL~1\\AppData\\Local\\Temp/ipykernel_596/432886622.py:2: SettingWithCopyWarning: \n",
      "A value is trying to be set on a copy of a slice from a DataFrame\n",
      "\n",
      "See the caveats in the documentation: https://pandas.pydata.org/pandas-docs/stable/user_guide/indexing.html#returning-a-view-versus-a-copy\n",
      "  df2[\"sepal.length\"][i] = 6 if df2[\"sepal.length\"][i] >= 6 else 3\n",
      "C:\\Users\\MAAZAL~1\\AppData\\Local\\Temp/ipykernel_596/432886622.py:3: SettingWithCopyWarning: \n",
      "A value is trying to be set on a copy of a slice from a DataFrame\n",
      "\n",
      "See the caveats in the documentation: https://pandas.pydata.org/pandas-docs/stable/user_guide/indexing.html#returning-a-view-versus-a-copy\n",
      "  df2[\"sepal.width\"][i] = 3 if df2[\"sepal.width\"][i] >= 3 else 2\n",
      "C:\\Users\\MAAZAL~1\\AppData\\Local\\Temp/ipykernel_596/432886622.py:4: SettingWithCopyWarning: \n",
      "A value is trying to be set on a copy of a slice from a DataFrame\n",
      "\n",
      "See the caveats in the documentation: https://pandas.pydata.org/pandas-docs/stable/user_guide/indexing.html#returning-a-view-versus-a-copy\n",
      "  df2[\"petal.width\"][i] = 1 if df2[\"petal.width\"][i] >= 1.2 else 0\n",
      "C:\\Users\\MAAZAL~1\\AppData\\Local\\Temp/ipykernel_596/432886622.py:5: SettingWithCopyWarning: \n",
      "A value is trying to be set on a copy of a slice from a DataFrame\n",
      "\n",
      "See the caveats in the documentation: https://pandas.pydata.org/pandas-docs/stable/user_guide/indexing.html#returning-a-view-versus-a-copy\n",
      "  df2[\"petal.length\"][i] = 4 if df2[\"petal.length\"][i] >= 4 else 2\n"
     ]
    }
   ],
   "source": [
    "for i in range(0, len(df2)):\n",
    "    df2[\"sepal.length\"][i] = 6 if df2[\"sepal.length\"][i] >= 6 else 3\n",
    "    df2[\"sepal.width\"][i] = 3 if df2[\"sepal.width\"][i] >= 3 else 2\n",
    "    df2[\"petal.width\"][i] = 1 if df2[\"petal.width\"][i] >= 1.2 else 0\n",
    "    df2[\"petal.length\"][i] = 4 if df2[\"petal.length\"][i] >= 4 else 2"
   ]
  },
  {
   "cell_type": "code",
   "execution_count": 112,
   "id": "d24f5bc6",
   "metadata": {},
   "outputs": [
    {
     "data": {
      "text/html": [
       "<div>\n",
       "<style scoped>\n",
       "    .dataframe tbody tr th:only-of-type {\n",
       "        vertical-align: middle;\n",
       "    }\n",
       "\n",
       "    .dataframe tbody tr th {\n",
       "        vertical-align: top;\n",
       "    }\n",
       "\n",
       "    .dataframe thead th {\n",
       "        text-align: right;\n",
       "    }\n",
       "</style>\n",
       "<table border=\"1\" class=\"dataframe\">\n",
       "  <thead>\n",
       "    <tr style=\"text-align: right;\">\n",
       "      <th></th>\n",
       "      <th>sepal.length</th>\n",
       "      <th>sepal.width</th>\n",
       "      <th>petal.length</th>\n",
       "      <th>petal.width</th>\n",
       "      <th>variety</th>\n",
       "    </tr>\n",
       "  </thead>\n",
       "  <tbody>\n",
       "    <tr>\n",
       "      <th>0</th>\n",
       "      <td>3.0</td>\n",
       "      <td>3.0</td>\n",
       "      <td>2.0</td>\n",
       "      <td>0.0</td>\n",
       "      <td>Setosa</td>\n",
       "    </tr>\n",
       "    <tr>\n",
       "      <th>1</th>\n",
       "      <td>3.0</td>\n",
       "      <td>3.0</td>\n",
       "      <td>2.0</td>\n",
       "      <td>0.0</td>\n",
       "      <td>Setosa</td>\n",
       "    </tr>\n",
       "    <tr>\n",
       "      <th>2</th>\n",
       "      <td>3.0</td>\n",
       "      <td>3.0</td>\n",
       "      <td>2.0</td>\n",
       "      <td>0.0</td>\n",
       "      <td>Setosa</td>\n",
       "    </tr>\n",
       "    <tr>\n",
       "      <th>3</th>\n",
       "      <td>3.0</td>\n",
       "      <td>3.0</td>\n",
       "      <td>2.0</td>\n",
       "      <td>0.0</td>\n",
       "      <td>Setosa</td>\n",
       "    </tr>\n",
       "    <tr>\n",
       "      <th>4</th>\n",
       "      <td>3.0</td>\n",
       "      <td>3.0</td>\n",
       "      <td>2.0</td>\n",
       "      <td>0.0</td>\n",
       "      <td>Setosa</td>\n",
       "    </tr>\n",
       "    <tr>\n",
       "      <th>...</th>\n",
       "      <td>...</td>\n",
       "      <td>...</td>\n",
       "      <td>...</td>\n",
       "      <td>...</td>\n",
       "      <td>...</td>\n",
       "    </tr>\n",
       "    <tr>\n",
       "      <th>145</th>\n",
       "      <td>6.0</td>\n",
       "      <td>3.0</td>\n",
       "      <td>4.0</td>\n",
       "      <td>1.0</td>\n",
       "      <td>Virginica</td>\n",
       "    </tr>\n",
       "    <tr>\n",
       "      <th>146</th>\n",
       "      <td>6.0</td>\n",
       "      <td>2.0</td>\n",
       "      <td>4.0</td>\n",
       "      <td>1.0</td>\n",
       "      <td>Virginica</td>\n",
       "    </tr>\n",
       "    <tr>\n",
       "      <th>147</th>\n",
       "      <td>6.0</td>\n",
       "      <td>3.0</td>\n",
       "      <td>4.0</td>\n",
       "      <td>1.0</td>\n",
       "      <td>Virginica</td>\n",
       "    </tr>\n",
       "    <tr>\n",
       "      <th>148</th>\n",
       "      <td>6.0</td>\n",
       "      <td>3.0</td>\n",
       "      <td>4.0</td>\n",
       "      <td>1.0</td>\n",
       "      <td>Virginica</td>\n",
       "    </tr>\n",
       "    <tr>\n",
       "      <th>149</th>\n",
       "      <td>3.0</td>\n",
       "      <td>3.0</td>\n",
       "      <td>4.0</td>\n",
       "      <td>1.0</td>\n",
       "      <td>Virginica</td>\n",
       "    </tr>\n",
       "  </tbody>\n",
       "</table>\n",
       "<p>150 rows × 5 columns</p>\n",
       "</div>"
      ],
      "text/plain": [
       "     sepal.length  sepal.width  petal.length  petal.width    variety\n",
       "0             3.0          3.0           2.0          0.0     Setosa\n",
       "1             3.0          3.0           2.0          0.0     Setosa\n",
       "2             3.0          3.0           2.0          0.0     Setosa\n",
       "3             3.0          3.0           2.0          0.0     Setosa\n",
       "4             3.0          3.0           2.0          0.0     Setosa\n",
       "..            ...          ...           ...          ...        ...\n",
       "145           6.0          3.0           4.0          1.0  Virginica\n",
       "146           6.0          2.0           4.0          1.0  Virginica\n",
       "147           6.0          3.0           4.0          1.0  Virginica\n",
       "148           6.0          3.0           4.0          1.0  Virginica\n",
       "149           3.0          3.0           4.0          1.0  Virginica\n",
       "\n",
       "[150 rows x 5 columns]"
      ]
     },
     "execution_count": 112,
     "metadata": {},
     "output_type": "execute_result"
    }
   ],
   "source": [
    "df2"
   ]
  },
  {
   "cell_type": "code",
   "execution_count": 113,
   "id": "862ddf22",
   "metadata": {},
   "outputs": [
    {
     "name": "stdout",
     "output_type": "stream",
     "text": [
      "Gaussian Naive Bayes model accuracy(in %): 71.05263157894737\n"
     ]
    }
   ],
   "source": [
    "#Applying built-in Naive Bayes to the categorized data\n",
    "\n",
    "X = df2.drop(\"variety\", axis=1)\n",
    "y = df2[\"variety\"]\n",
    "  \n",
    "# splitting X and y into training and testing sets\n",
    "from sklearn.model_selection import train_test_split\n",
    "X_train, X_test, y_train, y_test = train_test_split(X, y, test_size=0.25, random_state=51)\n",
    "\n",
    "# training the model on training set\n",
    "from sklearn.naive_bayes import GaussianNB\n",
    "gnb = GaussianNB()\n",
    "gnb.fit(X_train, y_train)\n",
    "  \n",
    "# making predictions on the testing set\n",
    "y_pred = gnb.predict(X_test)\n",
    "  \n",
    "# comparing actual response values (y_test) with predicted response values (y_pred)\n",
    "from sklearn import metrics\n",
    "print(\"Gaussian Naive Bayes model accuracy(in %):\", metrics.accuracy_score(y_test, y_pred)*100)"
   ]
  },
  {
   "cell_type": "markdown",
   "id": "dbd7f2d7",
   "metadata": {},
   "source": [
    "## Bonus Task"
   ]
  },
  {
   "cell_type": "markdown",
   "id": "7f373c7e",
   "metadata": {},
   "source": [
    "A friend of yours has just opened a pizza shop and he doesn’t want to you come there\n",
    "fearing you would eat for free. Somehow you sneak in the shop and you order an 8 inch\n",
    "pizza , your friend tells you that he doesn’t have an 8 inch pizza but he can give you two\n",
    "5 inch ones at the same price with the exact same things. As a statistician, should you\n",
    "be taking that deal? Is that beneficial for you or not? Give statistical reasoning."
   ]
  },
  {
   "cell_type": "code",
   "execution_count": 85,
   "id": "753eb65d",
   "metadata": {},
   "outputs": [],
   "source": [
    "#Area of Pizza offered by an 8 inch pizza\n",
    "\n",
    "area_8 = 3.14159 * (8/2)**2\n",
    "area_5 = 3.14159 * (5/2)**2"
   ]
  },
  {
   "cell_type": "code",
   "execution_count": 86,
   "id": "89fefebb",
   "metadata": {},
   "outputs": [
    {
     "data": {
      "text/plain": [
       "50.26544"
      ]
     },
     "execution_count": 86,
     "metadata": {},
     "output_type": "execute_result"
    }
   ],
   "source": [
    "area_8"
   ]
  },
  {
   "cell_type": "code",
   "execution_count": 87,
   "id": "67ad072e",
   "metadata": {},
   "outputs": [
    {
     "data": {
      "text/plain": [
       "39.269875"
      ]
     },
     "execution_count": 87,
     "metadata": {},
     "output_type": "execute_result"
    }
   ],
   "source": [
    "area_5 * 2"
   ]
  },
  {
   "cell_type": "markdown",
   "id": "27414567",
   "metadata": {},
   "source": [
    "The two 5-inch pizzas offer only 78% of the pizza offered by a single 8 incher. Hence it is not a good deal"
   ]
  },
  {
   "cell_type": "code",
   "execution_count": null,
   "id": "65f62923",
   "metadata": {},
   "outputs": [],
   "source": []
  }
 ],
 "metadata": {
  "kernelspec": {
   "display_name": "Python 3 (ipykernel)",
   "language": "python",
   "name": "python3"
  },
  "language_info": {
   "codemirror_mode": {
    "name": "ipython",
    "version": 3
   },
   "file_extension": ".py",
   "mimetype": "text/x-python",
   "name": "python",
   "nbconvert_exporter": "python",
   "pygments_lexer": "ipython3",
   "version": "3.9.7"
  }
 },
 "nbformat": 4,
 "nbformat_minor": 5
}
