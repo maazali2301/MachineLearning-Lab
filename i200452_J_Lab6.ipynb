{
 "cells": [
  {
   "cell_type": "markdown",
   "id": "2efbbe24",
   "metadata": {},
   "source": [
    "# Maaz Ali Nadeem - i200452 - BS AI J"
   ]
  },
  {
   "cell_type": "markdown",
   "id": "00df20d0",
   "metadata": {},
   "source": [
    "## Machine Learning - Lab Task 6 (Naive Bayes for Discrete Data)"
   ]
  },
  {
   "cell_type": "code",
   "execution_count": 1,
   "id": "97af794d",
   "metadata": {},
   "outputs": [],
   "source": [
    "import pandas as pd\n",
    "import numpy as np"
   ]
  },
  {
   "cell_type": "markdown",
   "id": "3db22bbe",
   "metadata": {},
   "source": [
    "1) Use naïve bayes classifer on the Tennis play dataset, your code should ask the user to input\n",
    "some features and return the class of the input"
   ]
  },
  {
   "cell_type": "code",
   "execution_count": 5,
   "id": "46baa47e",
   "metadata": {},
   "outputs": [
    {
     "data": {
      "text/html": [
       "<div>\n",
       "<style scoped>\n",
       "    .dataframe tbody tr th:only-of-type {\n",
       "        vertical-align: middle;\n",
       "    }\n",
       "\n",
       "    .dataframe tbody tr th {\n",
       "        vertical-align: top;\n",
       "    }\n",
       "\n",
       "    .dataframe thead th {\n",
       "        text-align: right;\n",
       "    }\n",
       "</style>\n",
       "<table border=\"1\" class=\"dataframe\">\n",
       "  <thead>\n",
       "    <tr style=\"text-align: right;\">\n",
       "      <th></th>\n",
       "      <th>outlook</th>\n",
       "      <th>temp</th>\n",
       "      <th>humidity</th>\n",
       "      <th>wind</th>\n",
       "      <th>play</th>\n",
       "    </tr>\n",
       "  </thead>\n",
       "  <tbody>\n",
       "    <tr>\n",
       "      <th>0</th>\n",
       "      <td>Sunny</td>\n",
       "      <td>Hot</td>\n",
       "      <td>High</td>\n",
       "      <td>Weak</td>\n",
       "      <td>No</td>\n",
       "    </tr>\n",
       "    <tr>\n",
       "      <th>1</th>\n",
       "      <td>Sunny</td>\n",
       "      <td>Hot</td>\n",
       "      <td>High</td>\n",
       "      <td>Strong</td>\n",
       "      <td>No</td>\n",
       "    </tr>\n",
       "    <tr>\n",
       "      <th>2</th>\n",
       "      <td>Overcast</td>\n",
       "      <td>Hot</td>\n",
       "      <td>High</td>\n",
       "      <td>Weak</td>\n",
       "      <td>Yes</td>\n",
       "    </tr>\n",
       "    <tr>\n",
       "      <th>3</th>\n",
       "      <td>Rain</td>\n",
       "      <td>Mild</td>\n",
       "      <td>High</td>\n",
       "      <td>Weak</td>\n",
       "      <td>Yes</td>\n",
       "    </tr>\n",
       "    <tr>\n",
       "      <th>4</th>\n",
       "      <td>Rain</td>\n",
       "      <td>Cool</td>\n",
       "      <td>Normal</td>\n",
       "      <td>Weak</td>\n",
       "      <td>Yes</td>\n",
       "    </tr>\n",
       "    <tr>\n",
       "      <th>5</th>\n",
       "      <td>Rain</td>\n",
       "      <td>Cool</td>\n",
       "      <td>Normal</td>\n",
       "      <td>Strong</td>\n",
       "      <td>No</td>\n",
       "    </tr>\n",
       "    <tr>\n",
       "      <th>6</th>\n",
       "      <td>Overcast</td>\n",
       "      <td>Cool</td>\n",
       "      <td>Normal</td>\n",
       "      <td>Strong</td>\n",
       "      <td>Yes</td>\n",
       "    </tr>\n",
       "    <tr>\n",
       "      <th>7</th>\n",
       "      <td>Sunny</td>\n",
       "      <td>Mild</td>\n",
       "      <td>High</td>\n",
       "      <td>Weak</td>\n",
       "      <td>No</td>\n",
       "    </tr>\n",
       "    <tr>\n",
       "      <th>8</th>\n",
       "      <td>Sunny</td>\n",
       "      <td>Cool</td>\n",
       "      <td>Normal</td>\n",
       "      <td>Weak</td>\n",
       "      <td>Yes</td>\n",
       "    </tr>\n",
       "    <tr>\n",
       "      <th>9</th>\n",
       "      <td>Rain</td>\n",
       "      <td>Mild</td>\n",
       "      <td>Normal</td>\n",
       "      <td>Weak</td>\n",
       "      <td>Yes</td>\n",
       "    </tr>\n",
       "    <tr>\n",
       "      <th>10</th>\n",
       "      <td>Sunny</td>\n",
       "      <td>Mild</td>\n",
       "      <td>Normal</td>\n",
       "      <td>Strong</td>\n",
       "      <td>Yes</td>\n",
       "    </tr>\n",
       "    <tr>\n",
       "      <th>11</th>\n",
       "      <td>Overcast</td>\n",
       "      <td>Mild</td>\n",
       "      <td>High</td>\n",
       "      <td>Strong</td>\n",
       "      <td>Yes</td>\n",
       "    </tr>\n",
       "    <tr>\n",
       "      <th>12</th>\n",
       "      <td>Overcast</td>\n",
       "      <td>Hot</td>\n",
       "      <td>Normal</td>\n",
       "      <td>Weak</td>\n",
       "      <td>Yes</td>\n",
       "    </tr>\n",
       "    <tr>\n",
       "      <th>13</th>\n",
       "      <td>Rain</td>\n",
       "      <td>Mild</td>\n",
       "      <td>High</td>\n",
       "      <td>Strong</td>\n",
       "      <td>No</td>\n",
       "    </tr>\n",
       "  </tbody>\n",
       "</table>\n",
       "</div>"
      ],
      "text/plain": [
       "     outlook  temp humidity    wind play\n",
       "0      Sunny   Hot     High    Weak   No\n",
       "1      Sunny   Hot     High  Strong   No\n",
       "2   Overcast   Hot     High    Weak  Yes\n",
       "3       Rain  Mild     High    Weak  Yes\n",
       "4       Rain  Cool   Normal    Weak  Yes\n",
       "5       Rain  Cool   Normal  Strong   No\n",
       "6   Overcast  Cool   Normal  Strong  Yes\n",
       "7      Sunny  Mild     High    Weak   No\n",
       "8      Sunny  Cool   Normal    Weak  Yes\n",
       "9       Rain  Mild   Normal    Weak  Yes\n",
       "10     Sunny  Mild   Normal  Strong  Yes\n",
       "11  Overcast  Mild     High  Strong  Yes\n",
       "12  Overcast   Hot   Normal    Weak  Yes\n",
       "13      Rain  Mild     High  Strong   No"
      ]
     },
     "execution_count": 5,
     "metadata": {},
     "output_type": "execute_result"
    }
   ],
   "source": [
    "df = pd.read_csv(\"play_tennis.csv\")\n",
    "df = df.drop(\"day\", axis=1)\n",
    "df"
   ]
  },
  {
   "cell_type": "code",
   "execution_count": 30,
   "id": "a6ae4088",
   "metadata": {},
   "outputs": [
    {
     "data": {
      "text/plain": [
       "[0.6428571428571429, 0.35714285714285715]"
      ]
     },
     "execution_count": 30,
     "metadata": {},
     "output_type": "execute_result"
    }
   ],
   "source": [
    "#Probabilities of Yes and No datapoints\n",
    "class_counts = list(df[\"play\"].value_counts())\n",
    "probs = [x/len(df) for x in class_counts]\n",
    "probs"
   ]
  },
  {
   "cell_type": "markdown",
   "id": "95b8d6cc",
   "metadata": {},
   "source": [
    "### Probabilities of Outlook Feature"
   ]
  },
  {
   "cell_type": "code",
   "execution_count": 38,
   "id": "e874e36b",
   "metadata": {},
   "outputs": [
    {
     "name": "stdout",
     "output_type": "stream",
     "text": [
      "['Sunny', 'Rain', 'Overcast']\n"
     ]
    },
    {
     "data": {
      "text/plain": [
       "[['Sunny', 0.2222222222222222, 0.6],\n",
       " ['Rain', 0.3333333333333333, 0.4],\n",
       " ['Overcast', 0.4444444444444444, 0.0]]"
      ]
     },
     "execution_count": 38,
     "metadata": {},
     "output_type": "execute_result"
    }
   ],
   "source": [
    "classes = df[\"outlook\"].value_counts().index.tolist()\n",
    "print(classes)\n",
    "\n",
    "outlook_probabilities = []\n",
    "for i in range(0, len(classes)):\n",
    "    c1 = c2 = 0\n",
    "    for j in range(0, len(list(df[\"play\"]))):\n",
    "        if df[\"play\"][j] == \"Yes\" and classes[i] == df[\"outlook\"][j]:\n",
    "            c1+=1\n",
    "        elif df[\"play\"][j] == \"No\" and classes[i] == df[\"outlook\"][j]:\n",
    "            c2+=1\n",
    "    \n",
    "    outlook_probabilities.append([classes[i], c1/class_counts[0], c2/class_counts[1]])\n",
    "    \n",
    "outlook_probabilities"
   ]
  },
  {
   "cell_type": "markdown",
   "id": "59cfe77f",
   "metadata": {},
   "source": [
    "### Probabilities of Outlook Feature"
   ]
  },
  {
   "cell_type": "code",
   "execution_count": 37,
   "id": "f49b4d29",
   "metadata": {},
   "outputs": [
    {
     "name": "stdout",
     "output_type": "stream",
     "text": [
      "['Mild', 'Hot', 'Cool']\n"
     ]
    },
    {
     "data": {
      "text/plain": [
       "[['Mild', 0.4444444444444444, 0.4],\n",
       " ['Hot', 0.2222222222222222, 0.4],\n",
       " ['Cool', 0.3333333333333333, 0.2]]"
      ]
     },
     "execution_count": 37,
     "metadata": {},
     "output_type": "execute_result"
    }
   ],
   "source": [
    "#Probabilities of Outlook Class\n",
    "classes = df[\"temp\"].value_counts().index.tolist()\n",
    "print(classes)\n",
    "\n",
    "temp_probabilities = []\n",
    "for i in range(0, len(classes)):\n",
    "    c1 = c2 = 0\n",
    "    for j in range(0, len(list(df[\"play\"]))):\n",
    "        if df[\"play\"][j] == \"Yes\" and classes[i] == df[\"temp\"][j]:\n",
    "            c1+=1\n",
    "        elif df[\"play\"][j] == \"No\" and classes[i] == df[\"temp\"][j]:\n",
    "            c2+=1\n",
    "    \n",
    "    temp_probabilities.append([classes[i], c1/class_counts[0], c2/class_counts[1]])\n",
    "    \n",
    "temp_probabilities"
   ]
  },
  {
   "cell_type": "markdown",
   "id": "f4b0af46",
   "metadata": {},
   "source": [
    "### Probabilities of Humidity Feature"
   ]
  },
  {
   "cell_type": "code",
   "execution_count": 40,
   "id": "e1fadef7",
   "metadata": {},
   "outputs": [
    {
     "name": "stdout",
     "output_type": "stream",
     "text": [
      "['High', 'Normal']\n"
     ]
    },
    {
     "data": {
      "text/plain": [
       "[['High', 0.3333333333333333, 0.8], ['Normal', 0.6666666666666666, 0.2]]"
      ]
     },
     "execution_count": 40,
     "metadata": {},
     "output_type": "execute_result"
    }
   ],
   "source": [
    "classes = df[\"humidity\"].value_counts().index.tolist()\n",
    "print(classes)\n",
    "\n",
    "humidity_probabilities = []\n",
    "for i in range(0, len(classes)):\n",
    "    c1 = c2 = 0\n",
    "    for j in range(0, len(list(df[\"play\"]))):\n",
    "        if df[\"play\"][j] == \"Yes\" and classes[i] == df[\"humidity\"][j]:\n",
    "            c1+=1\n",
    "        elif df[\"play\"][j] == \"No\" and classes[i] == df[\"humidity\"][j]:\n",
    "            c2+=1\n",
    "    \n",
    "    humidity_probabilities.append([classes[i], c1/class_counts[0], c2/class_counts[1]])\n",
    "    \n",
    "humidity_probabilities"
   ]
  },
  {
   "cell_type": "markdown",
   "id": "96141a49",
   "metadata": {},
   "source": [
    "### Probabilities of Wind Feature"
   ]
  },
  {
   "cell_type": "code",
   "execution_count": 41,
   "id": "3b33474d",
   "metadata": {},
   "outputs": [
    {
     "name": "stdout",
     "output_type": "stream",
     "text": [
      "['Weak', 'Strong']\n"
     ]
    },
    {
     "data": {
      "text/plain": [
       "[['Weak', 0.6666666666666666, 0.4], ['Strong', 0.3333333333333333, 0.6]]"
      ]
     },
     "execution_count": 41,
     "metadata": {},
     "output_type": "execute_result"
    }
   ],
   "source": [
    "classes = df[\"wind\"].value_counts().index.tolist()\n",
    "print(classes)\n",
    "\n",
    "wind_probabilities = []\n",
    "for i in range(0, len(classes)):\n",
    "    c1 = c2 = 0\n",
    "    for j in range(0, len(list(df[\"play\"]))):\n",
    "        if df[\"play\"][j] == \"Yes\" and classes[i] == df[\"wind\"][j]:\n",
    "            c1+=1\n",
    "        elif df[\"play\"][j] == \"No\" and classes[i] == df[\"wind\"][j]:\n",
    "            c2+=1\n",
    "    \n",
    "    wind_probabilities.append([classes[i], c1/class_counts[0], c2/class_counts[1]])\n",
    "    \n",
    "wind_probabilities"
   ]
  },
  {
   "cell_type": "markdown",
   "id": "69f66914",
   "metadata": {},
   "source": [
    "## Show all probabilities"
   ]
  },
  {
   "cell_type": "code",
   "execution_count": 55,
   "id": "13d9d362",
   "metadata": {},
   "outputs": [
    {
     "data": {
      "text/plain": [
       "[[['Sunny', 0.2222222222222222, 0.6],\n",
       "  ['Rain', 0.3333333333333333, 0.4],\n",
       "  ['Overcast', 0.4444444444444444, 0.0]],\n",
       " [['Mild', 0.4444444444444444, 0.4],\n",
       "  ['Hot', 0.2222222222222222, 0.4],\n",
       "  ['Cool', 0.3333333333333333, 0.2]],\n",
       " [['High', 0.3333333333333333, 0.8], ['Normal', 0.6666666666666666, 0.2]],\n",
       " [['Weak', 0.6666666666666666, 0.4], ['Strong', 0.3333333333333333, 0.6]]]"
      ]
     },
     "execution_count": 55,
     "metadata": {},
     "output_type": "execute_result"
    }
   ],
   "source": [
    "all_probs = [outlook_probabilities, temp_probabilities, humidity_probabilities, wind_probabilities]\n",
    "all_probs"
   ]
  },
  {
   "cell_type": "markdown",
   "id": "8064b2c9",
   "metadata": {},
   "source": [
    "## Inference"
   ]
  },
  {
   "cell_type": "code",
   "execution_count": 85,
   "id": "f9c28da9",
   "metadata": {},
   "outputs": [
    {
     "name": "stdout",
     "output_type": "stream",
     "text": [
      "Enter Class for outlook: Sunny\n",
      "Enter Class for temp: Cool\n",
      "Enter Class for humidity: High\n",
      "Enter Class for wind: Strong\n",
      "Inference of Yes: 0.005291005291005291\n",
      "Inference of Yes: 0.02057142857142857\n"
     ]
    }
   ],
   "source": [
    "names = df.columns\n",
    "names = names[:4]\n",
    "inference = []\n",
    "for i in names:\n",
    "    n = input(\"Enter Class for \" + i + \": \")\n",
    "    inference.append(n)\n",
    "    \n",
    "print(\"Inference of Yes:\", infer(inference, \"Yes\"))\n",
    "print(\"Inference of Yes:\", infer(inference, \"No\"))"
   ]
  },
  {
   "cell_type": "code",
   "execution_count": 82,
   "id": "04d356f9",
   "metadata": {},
   "outputs": [],
   "source": [
    "def infer(infer, ans):\n",
    "    p = 1\n",
    "    if (ans == \"Yes\"):\n",
    "        p*=probs[0]\n",
    "    else:\n",
    "        p*=probs[1]\n",
    "        \n",
    "    #Look for the right category and segment based on the \"Yes\" or \"No\"\n",
    "    for i in infer:\n",
    "        for j in range(0, len(all_probs)):\n",
    "                for k in range(0, len(all_probs[j])):\n",
    "                    if (i == all_probs[j][k][0]):\n",
    "                        if (ans == \"Yes\"):\n",
    "                            p *= all_probs[j][k][1]\n",
    "                        else:\n",
    "                            p *= all_probs[j][k][2]\n",
    "                            \n",
    "    return p"
   ]
  },
  {
   "cell_type": "markdown",
   "id": "f0432bef",
   "metadata": {},
   "source": [
    "2) Use bayesian classification to detect the class of a test sentence. Once use naïve bayes to\n",
    "classify the test sentence and then remove the naïve assumption and classify the sentence."
   ]
  },
  {
   "cell_type": "markdown",
   "id": "222b711f",
   "metadata": {},
   "source": [
    "Test Sentence: “Mangoes are good”\n",
    "Training Set:\n",
    "\n",
    "Positive:\n",
    "- I love mangoes.\n",
    "- Mangoes are a lot tastier than other fruits\n",
    "- I like mangoes because they are good,\n",
    "- Apples are good too but I prefer mangoes\n",
    "- People say mango is the king of fruit so that is why mangoes are good\n",
    "- Mangoes are good because they are juicy\n",
    "\n",
    "Negative:\n",
    "- Eating too many mangoes can have a negative impact on your health\n",
    "- Mangoes are good but not too good, I like apples more than mangoes\n",
    "- I don’t like mangoes because they are expensive\n",
    "- Mangoes are not good.\n",
    "- I don’t like mangoes"
   ]
  },
  {
   "cell_type": "code",
   "execution_count": 91,
   "id": "47395928",
   "metadata": {},
   "outputs": [
    {
     "data": {
      "text/plain": [
       "5"
      ]
     },
     "execution_count": 91,
     "metadata": {},
     "output_type": "execute_result"
    }
   ],
   "source": [
    "pos_sentences = [\"I love mangoes\",\n",
    "\"Mangoes are a lot tastier than other fruits\",\n",
    "\"I like mangoes because they are good,\",\n",
    "\"Apples are good too but I prefer mangoes\",\n",
    "\"People say mango is the king of fruit so that is why mangoes are good\",\n",
    "\"Mangoes are good because they are juicy\"]\n",
    "\n",
    "neg_sentences = [\"Eating too many mangoes can have a negative impact on your health\",\n",
    "\"Mangoes are good but not too good, I like apples more than mangoes\",\n",
    "\"I don’t like mangoes because they are expensive\",\n",
    "\"Mangoes are not good.\",\n",
    "\"I don’t like mangoes\"]\n",
    "\n",
    "len(neg_sentences)"
   ]
  },
  {
   "cell_type": "code",
   "execution_count": 106,
   "id": "a10b00ce",
   "metadata": {},
   "outputs": [],
   "source": [
    "#Clean the Dataset\n",
    "for i in range(0, len(pos_sentences)):\n",
    "    pos_sentences[i] = pos_sentences[i].lower()\n",
    "    pos_sentences[i] = pos_sentences[i].replace(\",\", \"\")\n",
    "    pos_sentences[i] = pos_sentences[i].replace(\".\", \"\")\n",
    "    pos_sentences[i] = pos_sentences[i].replace(\"\\'\", \"\")\n",
    "    \n",
    "    \n",
    "for i in range(0, len(neg_sentences)):\n",
    "    neg_sentences[i] = neg_sentences[i].lower()\n",
    "    neg_sentences[i] = neg_sentences[i].replace(\".\", \"\")\n",
    "    neg_sentences[i] = neg_sentences[i].replace(\",\", \"\")\n",
    "    neg_sentences[i] = neg_sentences[i].replace(\"\\'\", \"\")"
   ]
  },
  {
   "cell_type": "code",
   "execution_count": 107,
   "id": "62c45862",
   "metadata": {},
   "outputs": [
    {
     "data": {
      "text/plain": [
       "['i love mangoes',\n",
       " 'mangoes are a lot tastier than other fruits',\n",
       " 'i like mangoes because they are good',\n",
       " 'apples are good too but i prefer mangoes',\n",
       " 'people say mango is the king of fruit so that is why mangoes are good',\n",
       " 'mangoes are good because they are juicy']"
      ]
     },
     "execution_count": 107,
     "metadata": {},
     "output_type": "execute_result"
    }
   ],
   "source": [
    "pos_sentences"
   ]
  },
  {
   "cell_type": "code",
   "execution_count": 119,
   "id": "e42dc506",
   "metadata": {},
   "outputs": [
    {
     "data": {
      "text/plain": [
       "['eating too many mangoes can have a negative impact on your health',\n",
       " 'mangoes are good but not too good i like apples more than mangoes',\n",
       " 'i don’t like mangoes because they are expensive',\n",
       " 'mangoes are not good',\n",
       " 'i don’t like mangoes']"
      ]
     },
     "execution_count": 119,
     "metadata": {},
     "output_type": "execute_result"
    }
   ],
   "source": [
    "neg_sentences"
   ]
  },
  {
   "cell_type": "code",
   "execution_count": 108,
   "id": "02dcc11a",
   "metadata": {},
   "outputs": [],
   "source": [
    "def normal(text):\n",
    "    text = text.lower()\n",
    "    text = text.replace(\",\", \"\")\n",
    "    text = text.replace(\".\", \"\")\n",
    "    text = text.replace(\"\\'\", \"\")\n",
    "    return text"
   ]
  },
  {
   "cell_type": "code",
   "execution_count": 110,
   "id": "458fd16d",
   "metadata": {},
   "outputs": [
    {
     "data": {
      "text/plain": [
       "'mangoes are good'"
      ]
     },
     "execution_count": 110,
     "metadata": {},
     "output_type": "execute_result"
    }
   ],
   "source": [
    "inference = normal(\"Mangoes are good\")\n",
    "inference"
   ]
  },
  {
   "cell_type": "code",
   "execution_count": 113,
   "id": "d69835a2",
   "metadata": {},
   "outputs": [],
   "source": [
    "p_pos = len(pos_sentences) / (len(pos_sentences) + len(neg_sentences))\n",
    "p_neg = len(neg_sentences) / (len(pos_sentences) + len(neg_sentences))"
   ]
  },
  {
   "cell_type": "markdown",
   "id": "9baef172",
   "metadata": {},
   "source": [
    "## 1) Naive Bayes Algorithm"
   ]
  },
  {
   "cell_type": "code",
   "execution_count": 116,
   "id": "469a48c7",
   "metadata": {},
   "outputs": [
    {
     "name": "stdout",
     "output_type": "stream",
     "text": [
      "Positive:  0.30303030303030304\n"
     ]
    }
   ],
   "source": [
    "words = inference.split(\" \")\n",
    "\n",
    "#With respect to positive\n",
    "#P(Mangoes|Pos), P(Are|Pos), P(Good|Pos)\n",
    "\n",
    "probs_pos = []\n",
    "for word in words:\n",
    "    c1 = 0\n",
    "    for i in pos_sentences:\n",
    "        if word in i:\n",
    "            c1+=1\n",
    "    \n",
    "    probs_pos.append(c1/len(pos_sentences))\n",
    "    \n",
    "print(\"Positive: \", np.prod(probs_pos)*p_pos)"
   ]
  },
  {
   "cell_type": "code",
   "execution_count": 117,
   "id": "742d3c62",
   "metadata": {},
   "outputs": [
    {
     "name": "stdout",
     "output_type": "stream",
     "text": [
      "Negative:  0.10909090909090909\n"
     ]
    }
   ],
   "source": [
    "#With respect to positive\n",
    "#P(Mangoes|Neg), P(Are|Neg), P(Good|Neg)\n",
    "\n",
    "probs_neg = []\n",
    "for word in words:\n",
    "    c1 = 0\n",
    "    for i in neg_sentences:\n",
    "        if word in i:\n",
    "            c1+=1\n",
    "    \n",
    "    probs_neg.append(c1/len(neg_sentences))\n",
    "    \n",
    "print(\"Negative: \", np.prod(probs_neg)*p_neg)"
   ]
  },
  {
   "cell_type": "markdown",
   "id": "add3154f",
   "metadata": {},
   "source": [
    "## 2) Bayes Algorithm"
   ]
  },
  {
   "cell_type": "code",
   "execution_count": 126,
   "id": "7687f103",
   "metadata": {},
   "outputs": [
    {
     "name": "stdout",
     "output_type": "stream",
     "text": [
      "Positive: 0.1111111111111111\n",
      "Negative: 0.06400000000000002\n"
     ]
    }
   ],
   "source": [
    "#Dependent Probability\n",
    "\n",
    "#Sentence: mangoes are good\n",
    "#P(mangoes in positive) * P(Pos|mangoes are) * P(Pos|mangoes are good)\n",
    "#P(mangoes in negative) * P(Neg|mangoes are) * P(Neg|mangoes are good)\n",
    "\n",
    "#Finding P(Entire Statement) in Positive\n",
    "statement = \"\"\n",
    "probability_positive = 1\n",
    "for j in words:\n",
    "    statement+=j\n",
    "    if (not len(statement.split()) == len(words)):\n",
    "        statement+=\" \"\n",
    "    count = 0\n",
    "    for i in pos_sentences:\n",
    "        if statement in i:\n",
    "            count+=1\n",
    "    \n",
    "    probability_positive *= (count/len(pos_sentences))      \n",
    "    \n",
    "#Finding P(Entire Statement) in Negative\n",
    "statement = \"\"\n",
    "probability_negative = 1\n",
    "for j in words:\n",
    "    statement+=j\n",
    "    if (not len(statement.split()) == len(words)):\n",
    "        statement+=\" \"\n",
    "    count = 0\n",
    "    for i in neg_sentences:\n",
    "        if statement in i:\n",
    "            count+=1\n",
    "    \n",
    "    probability_negative *= (count/len(neg_sentences))      \n",
    "    \n",
    "print(\"Positive:\", probability_positive)\n",
    "print(\"Negative:\", probability_negative)"
   ]
  },
  {
   "cell_type": "code",
   "execution_count": null,
   "id": "bdc04300",
   "metadata": {},
   "outputs": [],
   "source": []
  }
 ],
 "metadata": {
  "kernelspec": {
   "display_name": "Python 3 (ipykernel)",
   "language": "python",
   "name": "python3"
  },
  "language_info": {
   "codemirror_mode": {
    "name": "ipython",
    "version": 3
   },
   "file_extension": ".py",
   "mimetype": "text/x-python",
   "name": "python",
   "nbconvert_exporter": "python",
   "pygments_lexer": "ipython3",
   "version": "3.9.7"
  }
 },
 "nbformat": 4,
 "nbformat_minor": 5
}
