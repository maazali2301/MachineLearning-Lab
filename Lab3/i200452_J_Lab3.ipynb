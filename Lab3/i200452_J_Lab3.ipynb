{
 "cells": [
  {
   "cell_type": "markdown",
   "id": "72e8c76a",
   "metadata": {},
   "source": [
    "# Maaz Ali Nadeem - i200452 - BS AI J"
   ]
  },
  {
   "cell_type": "markdown",
   "id": "0c472d59",
   "metadata": {},
   "source": [
    "## Machine Learning - Lab Task 3 (Linear Algebra operations in Python)"
   ]
  },
  {
   "cell_type": "markdown",
   "id": "55f52d9e",
   "metadata": {},
   "source": [
    "Import relevant libraries"
   ]
  },
  {
   "cell_type": "code",
   "execution_count": 2,
   "id": "e4acda03",
   "metadata": {},
   "outputs": [],
   "source": [
    "import numpy as np\n",
    "from numpy import random\n",
    "import matplotlib.pyplot as plt\n",
    "import math"
   ]
  },
  {
   "cell_type": "markdown",
   "id": "b55b0373",
   "metadata": {},
   "source": [
    "Create Random Vector"
   ]
  },
  {
   "cell_type": "code",
   "execution_count": 9,
   "id": "f832a64b",
   "metadata": {},
   "outputs": [],
   "source": [
    "x=1\n",
    "y=1\n",
    "\n",
    "arr1 = random.randint(10, size = (2))\n",
    "\n",
    "while (arr1[0]==0 and arr1[1]==0):\n",
    "    arr1 = random.randint(10, size = (2))\n",
    "    \n",
    "arr2 = random.randint(10, size = (2))"
   ]
  },
  {
   "cell_type": "markdown",
   "id": "964df96c",
   "metadata": {},
   "source": [
    "Find Orthogonal"
   ]
  },
  {
   "cell_type": "code",
   "execution_count": 10,
   "id": "c05661c1",
   "metadata": {},
   "outputs": [],
   "source": [
    "def ga(a1, a2):\n",
    "    \n",
    "    while (a2[0] == 0 and a2[1]==0):\n",
    "        a2 = random.randint(10, size = (2))\n",
    "        print(np.dot(a1, a2.T))\n",
    "    return a2"
   ]
  },
  {
   "cell_type": "code",
   "execution_count": 11,
   "id": "ab583711",
   "metadata": {},
   "outputs": [],
   "source": [
    "arr2 = ga(arr1, arr2)"
   ]
  },
  {
   "cell_type": "code",
   "execution_count": 12,
   "id": "b20c1abf",
   "metadata": {},
   "outputs": [
    {
     "name": "stdout",
     "output_type": "stream",
     "text": [
      "[4 2]\n",
      "[1 2]\n"
     ]
    }
   ],
   "source": [
    "print(arr1)\n",
    "print(arr2)"
   ]
  },
  {
   "cell_type": "code",
   "execution_count": 315,
   "id": "e0acf32b",
   "metadata": {},
   "outputs": [
    {
     "data": {
      "text/plain": [
       "array([[2, 5]])"
      ]
     },
     "execution_count": 315,
     "metadata": {},
     "output_type": "execute_result"
    }
   ],
   "source": [
    "np.rot90(arr1, k=1)"
   ]
  },
  {
   "cell_type": "code",
   "execution_count": 15,
   "id": "7671138f",
   "metadata": {},
   "outputs": [],
   "source": [
    "orthogonal = np.array([arr1[1], -arr1[0]])"
   ]
  },
  {
   "cell_type": "markdown",
   "id": "594e263a",
   "metadata": {},
   "source": [
    "Verify Orthogonal"
   ]
  },
  {
   "cell_type": "code",
   "execution_count": 16,
   "id": "bd56d124",
   "metadata": {},
   "outputs": [
    {
     "data": {
      "text/plain": [
       "0"
      ]
     },
     "execution_count": 16,
     "metadata": {},
     "output_type": "execute_result"
    }
   ],
   "source": [
    "arr1.dot(orthogonal)"
   ]
  },
  {
   "cell_type": "code",
   "execution_count": 22,
   "id": "76c941c2",
   "metadata": {},
   "outputs": [
    {
     "data": {
      "text/plain": [
       "([<matplotlib.axis.YTick at 0x1d8fa946730>,\n",
       "  <matplotlib.axis.YTick at 0x1d8f7f738b0>,\n",
       "  <matplotlib.axis.YTick at 0x1d8f80b0220>,\n",
       "  <matplotlib.axis.YTick at 0x1d8f80ec820>,\n",
       "  <matplotlib.axis.YTick at 0x1d8f80ce880>,\n",
       "  <matplotlib.axis.YTick at 0x1d8f80ec880>,\n",
       "  <matplotlib.axis.YTick at 0x1d8f80b8040>,\n",
       "  <matplotlib.axis.YTick at 0x1d8f80cee50>,\n",
       "  <matplotlib.axis.YTick at 0x1d8f80ce430>,\n",
       "  <matplotlib.axis.YTick at 0x1d8f83b1c40>],\n",
       " [Text(0, 0, ''),\n",
       "  Text(0, 0, ''),\n",
       "  Text(0, 0, ''),\n",
       "  Text(0, 0, ''),\n",
       "  Text(0, 0, ''),\n",
       "  Text(0, 0, ''),\n",
       "  Text(0, 0, ''),\n",
       "  Text(0, 0, ''),\n",
       "  Text(0, 0, ''),\n",
       "  Text(0, 0, '')])"
      ]
     },
     "execution_count": 22,
     "metadata": {},
     "output_type": "execute_result"
    },
    {
     "data": {
      "image/png": "[encoded data removed]",
      "text/plain": [
       "<Figure size 432x288 with 1 Axes>"
      ]
     },
     "metadata": {
      "needs_background": "light"
     },
     "output_type": "display_data"
    }
   ],
   "source": [
    "plt.plot([0, arr1[0]], [0, arr1[1]], 'r')\n",
    "plt.plot([0, orthogonal[0]], [0, orthogonal[1]], 'r')\n",
    "plt.xticks(np.arange(-5,5,1))\n",
    "plt.yticks(np.arange(-5,5,1))"
   ]
  },
  {
   "cell_type": "code",
   "execution_count": 24,
   "id": "681378c0",
   "metadata": {},
   "outputs": [
    {
     "data": {
      "text/plain": [
       "[<matplotlib.lines.Line2D at 0x1d8faa1ea30>]"
      ]
     },
     "execution_count": 24,
     "metadata": {},
     "output_type": "execute_result"
    },
    {
     "data": {
      "image/png": "[encoded data removed]",
      "text/plain": [
       "<Figure size 432x288 with 1 Axes>"
      ]
     },
     "metadata": {
      "needs_background": "light"
     },
     "output_type": "display_data"
    }
   ],
   "source": [
    "a1 = np.array([15,0])\n",
    "a2 = np.array([0,15])\n",
    "x  = arr1.dot((a1)/a1.dot(a1))*a1\n",
    "y  = arr1.dot((a2)/a2.dot(a2))*a2\n",
    "plt.plot([0, arr1[0]], [0, arr1[1]], 'b')\n",
    "plt.plot([0, x[0]], [0, x[1]], 'y')\n",
    "plt.plot([0, y[0]], [0, y[1]], 'm')"
   ]
  },
  {
   "cell_type": "markdown",
   "id": "b6d611ff",
   "metadata": {},
   "source": [
    "Angle of Vectors"
   ]
  },
  {
   "cell_type": "code",
   "execution_count": null,
   "id": "fb14fc98",
   "metadata": {},
   "outputs": [],
   "source": [
    "angle = math.acos(arr1.dot(a1)/(math.sqrt(arr1.dot(arr1)))\n",
    "angle *= math.sqrt(a1.dot(a1))\n",
    "angle *= 180/math.pi\n",
    "print(angle, \" degrees\")"
   ]
  },
  {
   "cell_type": "code",
   "execution_count": null,
   "id": "8d422786",
   "metadata": {},
   "outputs": [],
   "source": [
    "angle = math.acos(arr1.dot(a2)/(math.sqrt(arr1.dot(arr1)))\n",
    "angle *= math.sqrt(a2.dot(a2))\n",
    "angle *= 180/math.pi\n",
    "print(angle, \" degrees\")"
   ]
  },
  {
   "cell_type": "markdown",
   "id": "6b286fcd",
   "metadata": {},
   "source": [
    "## Iris Dataset (Zero-Centred)"
   ]
  },
  {
   "cell_type": "code",
   "execution_count": 31,
   "id": "dcc893a9",
   "metadata": {},
   "outputs": [],
   "source": [
    "import pandas as pd\n",
    "df = pd.read_csv(\"iris.csv\")"
   ]
  },
  {
   "cell_type": "code",
   "execution_count": 32,
   "id": "51ffe197",
   "metadata": {},
   "outputs": [
    {
     "data": {
      "text/html": [
       "<div>\n",
       "<style scoped>\n",
       "    .dataframe tbody tr th:only-of-type {\n",
       "        vertical-align: middle;\n",
       "    }\n",
       "\n",
       "    .dataframe tbody tr th {\n",
       "        vertical-align: top;\n",
       "    }\n",
       "\n",
       "    .dataframe thead th {\n",
       "        text-align: right;\n",
       "    }\n",
       "</style>\n",
       "<table border=\"1\" class=\"dataframe\">\n",
       "  <thead>\n",
       "    <tr style=\"text-align: right;\">\n",
       "      <th></th>\n",
       "      <th>sepal.length</th>\n",
       "      <th>sepal.width</th>\n",
       "      <th>petal.length</th>\n",
       "      <th>petal.width</th>\n",
       "      <th>variety</th>\n",
       "    </tr>\n",
       "  </thead>\n",
       "  <tbody>\n",
       "    <tr>\n",
       "      <th>0</th>\n",
       "      <td>5.1</td>\n",
       "      <td>3.5</td>\n",
       "      <td>1.4</td>\n",
       "      <td>0.2</td>\n",
       "      <td>Setosa</td>\n",
       "    </tr>\n",
       "    <tr>\n",
       "      <th>1</th>\n",
       "      <td>4.9</td>\n",
       "      <td>3.0</td>\n",
       "      <td>1.4</td>\n",
       "      <td>0.2</td>\n",
       "      <td>Setosa</td>\n",
       "    </tr>\n",
       "    <tr>\n",
       "      <th>2</th>\n",
       "      <td>4.7</td>\n",
       "      <td>3.2</td>\n",
       "      <td>1.3</td>\n",
       "      <td>0.2</td>\n",
       "      <td>Setosa</td>\n",
       "    </tr>\n",
       "    <tr>\n",
       "      <th>3</th>\n",
       "      <td>4.6</td>\n",
       "      <td>3.1</td>\n",
       "      <td>1.5</td>\n",
       "      <td>0.2</td>\n",
       "      <td>Setosa</td>\n",
       "    </tr>\n",
       "    <tr>\n",
       "      <th>4</th>\n",
       "      <td>5.0</td>\n",
       "      <td>3.6</td>\n",
       "      <td>1.4</td>\n",
       "      <td>0.2</td>\n",
       "      <td>Setosa</td>\n",
       "    </tr>\n",
       "    <tr>\n",
       "      <th>...</th>\n",
       "      <td>...</td>\n",
       "      <td>...</td>\n",
       "      <td>...</td>\n",
       "      <td>...</td>\n",
       "      <td>...</td>\n",
       "    </tr>\n",
       "    <tr>\n",
       "      <th>145</th>\n",
       "      <td>6.7</td>\n",
       "      <td>3.0</td>\n",
       "      <td>5.2</td>\n",
       "      <td>2.3</td>\n",
       "      <td>Virginica</td>\n",
       "    </tr>\n",
       "    <tr>\n",
       "      <th>146</th>\n",
       "      <td>6.3</td>\n",
       "      <td>2.5</td>\n",
       "      <td>5.0</td>\n",
       "      <td>1.9</td>\n",
       "      <td>Virginica</td>\n",
       "    </tr>\n",
       "    <tr>\n",
       "      <th>147</th>\n",
       "      <td>6.5</td>\n",
       "      <td>3.0</td>\n",
       "      <td>5.2</td>\n",
       "      <td>2.0</td>\n",
       "      <td>Virginica</td>\n",
       "    </tr>\n",
       "    <tr>\n",
       "      <th>148</th>\n",
       "      <td>6.2</td>\n",
       "      <td>3.4</td>\n",
       "      <td>5.4</td>\n",
       "      <td>2.3</td>\n",
       "      <td>Virginica</td>\n",
       "    </tr>\n",
       "    <tr>\n",
       "      <th>149</th>\n",
       "      <td>5.9</td>\n",
       "      <td>3.0</td>\n",
       "      <td>5.1</td>\n",
       "      <td>1.8</td>\n",
       "      <td>Virginica</td>\n",
       "    </tr>\n",
       "  </tbody>\n",
       "</table>\n",
       "<p>150 rows × 5 columns</p>\n",
       "</div>"
      ],
      "text/plain": [
       "     sepal.length  sepal.width  petal.length  petal.width    variety\n",
       "0             5.1          3.5           1.4          0.2     Setosa\n",
       "1             4.9          3.0           1.4          0.2     Setosa\n",
       "2             4.7          3.2           1.3          0.2     Setosa\n",
       "3             4.6          3.1           1.5          0.2     Setosa\n",
       "4             5.0          3.6           1.4          0.2     Setosa\n",
       "..            ...          ...           ...          ...        ...\n",
       "145           6.7          3.0           5.2          2.3  Virginica\n",
       "146           6.3          2.5           5.0          1.9  Virginica\n",
       "147           6.5          3.0           5.2          2.0  Virginica\n",
       "148           6.2          3.4           5.4          2.3  Virginica\n",
       "149           5.9          3.0           5.1          1.8  Virginica\n",
       "\n",
       "[150 rows x 5 columns]"
      ]
     },
     "execution_count": 32,
     "metadata": {},
     "output_type": "execute_result"
    }
   ],
   "source": [
    "df"
   ]
  },
  {
   "cell_type": "code",
   "execution_count": 41,
   "id": "f5c0d5c2",
   "metadata": {},
   "outputs": [
    {
     "name": "stderr",
     "output_type": "stream",
     "text": [
      "C:\\Users\\MAAZAL~1\\AppData\\Local\\Temp/ipykernel_16684/2310343658.py:1: FutureWarning: Dropping of nuisance columns in DataFrame reductions (with 'numeric_only=None') is deprecated; in a future version this will raise TypeError.  Select only valid columns before calling the reduction.\n",
      "  mean = df.mean(axis=0)\n"
     ]
    },
    {
     "data": {
      "text/html": [
       "<div>\n",
       "<style scoped>\n",
       "    .dataframe tbody tr th:only-of-type {\n",
       "        vertical-align: middle;\n",
       "    }\n",
       "\n",
       "    .dataframe tbody tr th {\n",
       "        vertical-align: top;\n",
       "    }\n",
       "\n",
       "    .dataframe thead th {\n",
       "        text-align: right;\n",
       "    }\n",
       "</style>\n",
       "<table border=\"1\" class=\"dataframe\">\n",
       "  <thead>\n",
       "    <tr style=\"text-align: right;\">\n",
       "      <th></th>\n",
       "      <th>sepal.length</th>\n",
       "      <th>sepal.width</th>\n",
       "      <th>petal.length</th>\n",
       "      <th>petal.width</th>\n",
       "    </tr>\n",
       "  </thead>\n",
       "  <tbody>\n",
       "    <tr>\n",
       "      <th>0</th>\n",
       "      <td>-0.743333</td>\n",
       "      <td>0.442667</td>\n",
       "      <td>-2.358</td>\n",
       "      <td>-0.999333</td>\n",
       "    </tr>\n",
       "    <tr>\n",
       "      <th>1</th>\n",
       "      <td>-0.943333</td>\n",
       "      <td>-0.057333</td>\n",
       "      <td>-2.358</td>\n",
       "      <td>-0.999333</td>\n",
       "    </tr>\n",
       "    <tr>\n",
       "      <th>2</th>\n",
       "      <td>-1.143333</td>\n",
       "      <td>0.142667</td>\n",
       "      <td>-2.458</td>\n",
       "      <td>-0.999333</td>\n",
       "    </tr>\n",
       "    <tr>\n",
       "      <th>3</th>\n",
       "      <td>-1.243333</td>\n",
       "      <td>0.042667</td>\n",
       "      <td>-2.258</td>\n",
       "      <td>-0.999333</td>\n",
       "    </tr>\n",
       "    <tr>\n",
       "      <th>4</th>\n",
       "      <td>-0.843333</td>\n",
       "      <td>0.542667</td>\n",
       "      <td>-2.358</td>\n",
       "      <td>-0.999333</td>\n",
       "    </tr>\n",
       "    <tr>\n",
       "      <th>...</th>\n",
       "      <td>...</td>\n",
       "      <td>...</td>\n",
       "      <td>...</td>\n",
       "      <td>...</td>\n",
       "    </tr>\n",
       "    <tr>\n",
       "      <th>145</th>\n",
       "      <td>0.856667</td>\n",
       "      <td>-0.057333</td>\n",
       "      <td>1.442</td>\n",
       "      <td>1.100667</td>\n",
       "    </tr>\n",
       "    <tr>\n",
       "      <th>146</th>\n",
       "      <td>0.456667</td>\n",
       "      <td>-0.557333</td>\n",
       "      <td>1.242</td>\n",
       "      <td>0.700667</td>\n",
       "    </tr>\n",
       "    <tr>\n",
       "      <th>147</th>\n",
       "      <td>0.656667</td>\n",
       "      <td>-0.057333</td>\n",
       "      <td>1.442</td>\n",
       "      <td>0.800667</td>\n",
       "    </tr>\n",
       "    <tr>\n",
       "      <th>148</th>\n",
       "      <td>0.356667</td>\n",
       "      <td>0.342667</td>\n",
       "      <td>1.642</td>\n",
       "      <td>1.100667</td>\n",
       "    </tr>\n",
       "    <tr>\n",
       "      <th>149</th>\n",
       "      <td>0.056667</td>\n",
       "      <td>-0.057333</td>\n",
       "      <td>1.342</td>\n",
       "      <td>0.600667</td>\n",
       "    </tr>\n",
       "  </tbody>\n",
       "</table>\n",
       "<p>150 rows × 4 columns</p>\n",
       "</div>"
      ],
      "text/plain": [
       "     sepal.length  sepal.width  petal.length  petal.width\n",
       "0       -0.743333     0.442667        -2.358    -0.999333\n",
       "1       -0.943333    -0.057333        -2.358    -0.999333\n",
       "2       -1.143333     0.142667        -2.458    -0.999333\n",
       "3       -1.243333     0.042667        -2.258    -0.999333\n",
       "4       -0.843333     0.542667        -2.358    -0.999333\n",
       "..            ...          ...           ...          ...\n",
       "145      0.856667    -0.057333         1.442     1.100667\n",
       "146      0.456667    -0.557333         1.242     0.700667\n",
       "147      0.656667    -0.057333         1.442     0.800667\n",
       "148      0.356667     0.342667         1.642     1.100667\n",
       "149      0.056667    -0.057333         1.342     0.600667\n",
       "\n",
       "[150 rows x 4 columns]"
      ]
     },
     "execution_count": 41,
     "metadata": {},
     "output_type": "execute_result"
    }
   ],
   "source": [
    "mean = df.mean(axis=0)\n",
    "zc_df = df.drop([\"variety\"], axis=1) - np.dot(1, mean.T)\n",
    "zc_df"
   ]
  },
  {
   "cell_type": "code",
   "execution_count": null,
   "id": "fbf7f7a1",
   "metadata": {},
   "outputs": [],
   "source": []
  }
 ],
 "metadata": {
  "kernelspec": {
   "display_name": "Python 3 (ipykernel)",
   "language": "python",
   "name": "python3"
  },
  "language_info": {
   "codemirror_mode": {
    "name": "ipython",
    "version": 3
   },
   "file_extension": ".py",
   "mimetype": "text/x-python",
   "name": "python",
   "nbconvert_exporter": "python",
   "pygments_lexer": "ipython3",
   "version": "3.9.7"
  }
 },
 "nbformat": 4,
 "nbformat_minor": 5
}
